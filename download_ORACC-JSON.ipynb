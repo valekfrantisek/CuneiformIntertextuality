{
 "cells": [
  {
   "cell_type": "markdown",
   "metadata": {},
   "source": [
    "# Download ORACC JSON Files\n",
    "This script downloads open data from the Open Richly Annotated Cuneiform Corpus ([ORACC](http://oracc.org)) in `json` format. The JSON files are made available in a ZIP file. For a description of the various JSON files included in the ZIP see the [open data](http://oracc.museum.upenn.edu/doc/opendata) page on [ORACC](http://oracc.org). "
   ]
  },
  {
   "cell_type": "code",
   "execution_count": 1,
   "metadata": {
    "collapsed": true
   },
   "outputs": [],
   "source": [
    "import pandas as pd   \n",
    "import requests\n",
    "import io\n",
    "import tqdm\n",
    "import json\n",
    "import os\n",
    "import zipfile\n",
    "import errno\n",
    "import time"
   ]
  },
  {
   "cell_type": "markdown",
   "metadata": {},
   "source": [
    "# Create Download Directory\n",
    "Create a directory called `jsonzip`. If the directory already exists, do nothing.\n",
    "\n",
    "For the code, see [Stack Overflow](http://stackoverflow.com/questions/18973418/os-mkdirpath-returns-oserror-when-directory-does-not-exist)."
   ]
  },
  {
   "cell_type": "code",
   "execution_count": 2,
   "metadata": {},
   "outputs": [],
   "source": [
    "ROOT_PATH = os.getcwd()\n",
    "\n",
    "PROJECTS_METADATA_PATH = os.path.join('projectsmetadata')\n",
    "\n",
    "CSV_PROJECTS_DF = os.path.join(PROJECTS_METADATA_PATH, 'projects.csv')\n",
    "LIST_OF_PROJECTS = os.path.join(PROJECTS_METADATA_PATH, 'projects.txt')\n",
    "\n",
    "ZIP_PATH = os.path.join(os.getcwd(), 'jsonzip')\n",
    "EXTRACT_PATH = os.path.join(os.getcwd(), 'projectsdata')"
   ]
  },
  {
   "cell_type": "code",
   "execution_count": 3,
   "metadata": {},
   "outputs": [],
   "source": [
    "try:\n",
    "    os.mkdir(ZIP_PATH)\n",
    "except OSError as exc:\n",
    "    if exc.errno !=errno.EEXIST:\n",
    "        raise\n",
    "    pass\n",
    "\n",
    "try:\n",
    "    os.mkdir(EXTRACT_PATH)\n",
    "except OSError as exc:\n",
    "    if exc.errno !=errno.EEXIST:\n",
    "        raise\n",
    "    pass\n",
    "\n",
    "try:\n",
    "    os.mkdir(PROJECTS_METADATA_PATH)\n",
    "except OSError as exc:\n",
    "    if exc.errno !=errno.EEXIST:\n",
    "        raise\n",
    "    pass"
   ]
  },
  {
   "cell_type": "markdown",
   "metadata": {},
   "source": [
    "# Get up-to-date list of existing projects and subprojects\n",
    "\n",
    "As listed in [The Oracc Project List](https://oracc.museum.upenn.edu/projectlist.html)"
   ]
  },
  {
   "cell_type": "code",
   "execution_count": 4,
   "metadata": {},
   "outputs": [
    {
     "name": "stderr",
     "output_type": "stream",
     "text": [
      "c:\\Users\\valek\\AppData\\Local\\Programs\\Python\\Python313\\Lib\\site-packages\\urllib3\\connectionpool.py:1097: InsecureRequestWarning: Unverified HTTPS request is being made to host 'oracc.museum.upenn.edu'. Adding certificate verification is strongly advised. See: https://urllib3.readthedocs.io/en/latest/advanced-usage.html#tls-warnings\n",
      "  warnings.warn(\n"
     ]
    },
    {
     "name": "stdout",
     "output_type": "stream",
     "text": [
      "Up-to-date list of projects has been created.\n",
      "File projects.csv has been saved to projectsmetadata\\projects.csv.\n",
      "File projects.txt has been saved to projectsmetadata\\projects.txt.\n"
     ]
    }
   ],
   "source": [
    "projects_url = 'https://oracc.museum.upenn.edu/projectlist.html'\n",
    "response = requests.get(projects_url, verify=False)\n",
    "\n",
    "response_data = response.text\n",
    "\n",
    "lines_in_html = response_data.split('\\n')\n",
    "\n",
    "projects_dict = {}\n",
    "run_shortcuts = []\n",
    "\n",
    "idx=0\n",
    "for line in lines_in_html:\n",
    "    if 'href=\"./' in line:\n",
    "        line_parts = line.split('href=\"./')\n",
    "        line_parts_2 = line_parts[1].split('\">')\n",
    "        project_shortcut = line_parts_2[0]\n",
    "        project_shortcut = project_shortcut.replace('/', '-')\n",
    "        if project_shortcut in run_shortcuts:\n",
    "            continue\n",
    "        else:\n",
    "            line_parts_3 = line_parts_2[1].split('</a>')\n",
    "            project_name = line_parts_3[0]\n",
    "            projects_dict[idx] = {'name': project_name, 'shortcut': project_shortcut, 'project_json_link': f'https://oracc.museum.upenn.edu/json/{project_shortcut}.zip'}\n",
    "            run_shortcuts.append(project_shortcut)\n",
    "            idx += 1\n",
    "            \n",
    "print('Up-to-date list of projects has been created.')\n",
    "\n",
    "# Extracting projects to csv file projects.csv\n",
    "projects_df = pd.DataFrame.from_dict(projects_dict)\n",
    "projects_df = projects_df.transpose()\n",
    "projects_df.to_csv(CSV_PROJECTS_DF)\n",
    "print(f'File projects.csv has been saved to {CSV_PROJECTS_DF}.')\n",
    "\n",
    "# Extracting list of projects to txt file projects.txt\n",
    "with open(LIST_OF_PROJECTS, 'w', encoding='utf-8') as txt_file:\n",
    "    txt_file.write('\\n'.join(run_shortcuts))\n",
    "print(f'File projects.txt has been saved to {LIST_OF_PROJECTS}.')"
   ]
  },
  {
   "cell_type": "markdown",
   "metadata": {},
   "source": [
    "# Parse the file with text IDs\n",
    "The following code reads the file with text ID and pulls out the project names. The code removes accidental spaces at the beginning and the end of each line as well as blank lines. Each line in the file with text IDs is split at the first space - everything after the first space is ignored. The last 8 digits of the text ID are removed, to leave only the project name.\n",
    "\n",
    "#FV note: I want only projects, not texts --> iggnoring the removal of last 8 characters."
   ]
  },
  {
   "cell_type": "code",
   "execution_count": 5,
   "metadata": {
    "collapsed": true
   },
   "outputs": [],
   "source": [
    "with open(LIST_OF_PROJECTS, 'r') as f:\n",
    "    projects = f.read().split('\\n')"
   ]
  },
  {
   "cell_type": "code",
   "execution_count": 6,
   "metadata": {},
   "outputs": [
    {
     "name": "stdout",
     "output_type": "stream",
     "text": [
      "adsd\n",
      "adsd-adart1\n",
      "adsd-adart2\n",
      "adsd-adart3\n",
      "adsd-adart5\n",
      "adsd-adart6\n",
      "aemw\n",
      "aemw-alalakh-idrimi\n",
      "aemw-amarna\n",
      "akklove\n",
      "amgg\n",
      "ario\n",
      "armep\n",
      "arrim\n",
      "asbp\n",
      "asbp-ninmed\n",
      "asbp-rlasb\n",
      "atae\n",
      "atae-assur\n",
      "atae-burmarina\n",
      "atae-durkatlimmu\n",
      "atae-durszarrukin\n",
      "atae-guzana\n",
      "atae-huzirina\n",
      "atae-imgurenlil\n",
      "atae-kalhu\n",
      "atae-kunalia\n",
      "atae-mallanate\n",
      "atae-marqasu\n",
      "atae-nineveh\n",
      "atae-samal\n",
      "atae-szibaniba\n",
      "atae-tilbarsip\n",
      "atae-tuszhan\n",
      "babcity\n",
      "balt\n",
      "blms\n",
      "borsippa\n",
      "btmao\n",
      "btto\n",
      "cams-akno\n",
      "cams-barutu\n",
      "cams-gkab\n",
      "cams-ludlul\n",
      "cams-selbi\n",
      "cams-tlab\n",
      "cdli\n",
      "ckst\n",
      "cmawro\n",
      "cmawro-cmawr1\n",
      "cmawro-cmawr2\n",
      "cmawro-cmawr3\n",
      "cmawro-maqlu\n",
      "contrib-amarna\n",
      "contrib-jacobsen\n",
      "contrib-lambert\n",
      "ctij\n",
      "dcclt\n",
      "dcclt-ebla\n",
      "dcclt-jena\n",
      "dcclt-nineveh\n",
      "dcclt-signlists\n",
      "dccmt\n",
      "dsst\n",
      "ecut\n",
      "edlex\n",
      "eisl\n",
      "epsd2\n",
      "etcsri\n",
      "glass\n",
      "hbtin\n",
      "iraq\n",
      "iraq-iraq85\n",
      "kish\n",
      "kish-fieldmus\n",
      "kish-fieldmus-fmod\n",
      "kish-mathaffield\n",
      "nere\n",
      "nimrud\n",
      "obel\n",
      "obmc\n",
      "obta\n",
      "ogsl\n",
      "oimea\n",
      "osl\n",
      "pnao\n",
      "qcat\n",
      "riao\n",
      "ribo\n",
      "ribo-bab7scores\n",
      "ribo-babylon10\n",
      "ribo-babylon2\n",
      "ribo-babylon3\n",
      "ribo-babylon4\n",
      "ribo-babylon5\n",
      "ribo-babylon6\n",
      "ribo-babylon7\n",
      "ribo-babylon8\n",
      "ribo-sources\n",
      "rimanum\n",
      "rinap\n",
      "rinap-rinap1\n",
      "rinap-rinap2\n",
      "rinap-rinap3\n",
      "rinap-rinap4\n",
      "rinap-rinap5\n",
      "rinap-rinap5p1\n",
      "rinap-scores\n",
      "rinap-sources\n",
      "saao\n",
      "saao-aebp\n",
      "saao-knpp\n",
      "saao-saa01\n",
      "saao-saa02\n",
      "saao-saa03\n",
      "saao-saa04\n",
      "saao-saa05\n",
      "saao-saa06\n",
      "saao-saa07\n",
      "saao-saa08\n",
      "saao-saa09\n",
      "saao-saa10\n",
      "saao-saa11\n",
      "saao-saa12\n",
      "saao-saa13\n",
      "saao-saa14\n",
      "saao-saa15\n",
      "saao-saa16\n",
      "saao-saa17\n",
      "saao-saa18\n",
      "saao-saa19\n",
      "saao-saa20\n",
      "saao-saa21\n",
      "saao-saas2\n",
      "suhu\n",
      "tcma\n",
      "tsae\n",
      "urap\n",
      "xcat\n"
     ]
    }
   ],
   "source": [
    "for project in projects:\n",
    "    print(project)"
   ]
  },
  {
   "cell_type": "markdown",
   "metadata": {},
   "source": [
    "## Download the ZIP files\n",
    "For each project from which files are to be processed download the entire project (all the json files) from `http://build-oracc.museum.upenn.edu/json/`. The file is called `PROJECT.zip` (for instance: `dcclt.zip`). For subprojects the file is called `PROJECT-SUBPROJECT.zip` (for instance `cams-gkab.zip`). \n",
    "\n",
    "For larger projects (such as [DCCLT](http://oracc.org/dcclt)) the `zip` file may be 25Mb or more. Downloading may take some time and it may be necessary to chunk the downloading process. The `iter_content()` function in the `requests` library takes care of that.\n",
    "\n",
    "Although downloading the entire zip file is time consuming, it will make processing the individual files much more efficient and the code is less likely to break due to interruption in connectivity.\n"
   ]
  },
  {
   "cell_type": "code",
   "execution_count": 7,
   "metadata": {
    "collapsed": false
   },
   "outputs": [
    {
     "name": "stderr",
     "output_type": "stream",
     "text": [
      "  0%|          | 0/139 [00:00<?, ?it/s]c:\\Users\\valek\\AppData\\Local\\Programs\\Python\\Python313\\Lib\\site-packages\\urllib3\\connectionpool.py:1097: InsecureRequestWarning: Unverified HTTPS request is being made to host 'build-oracc.museum.upenn.edu'. Adding certificate verification is strongly advised. See: https://urllib3.readthedocs.io/en/latest/advanced-usage.html#tls-warnings\n",
      "  warnings.warn(\n"
     ]
    },
    {
     "name": "stdout",
     "output_type": "stream",
     "text": [
      "Downloading http://build-oracc.museum.upenn.edu/json/adsd.zip saving as jsonzip/adsd.zip\n",
      "Waiting 3 seconds in order not to overload the ORACC server\n"
     ]
    },
    {
     "name": "stderr",
     "output_type": "stream",
     "text": [
      "  1%|          | 1/139 [00:04<10:39,  4.63s/it]c:\\Users\\valek\\AppData\\Local\\Programs\\Python\\Python313\\Lib\\site-packages\\urllib3\\connectionpool.py:1097: InsecureRequestWarning: Unverified HTTPS request is being made to host 'build-oracc.museum.upenn.edu'. Adding certificate verification is strongly advised. See: https://urllib3.readthedocs.io/en/latest/advanced-usage.html#tls-warnings\n",
      "  warnings.warn(\n"
     ]
    },
    {
     "name": "stdout",
     "output_type": "stream",
     "text": [
      "Downloading http://build-oracc.museum.upenn.edu/json/adsd-adart1.zip saving as jsonzip/adsd-adart1.zip\n",
      "Waiting 3 seconds in order not to overload the ORACC server\n"
     ]
    },
    {
     "name": "stderr",
     "output_type": "stream",
     "text": [
      "  1%|▏         | 2/139 [00:09<10:36,  4.65s/it]c:\\Users\\valek\\AppData\\Local\\Programs\\Python\\Python313\\Lib\\site-packages\\urllib3\\connectionpool.py:1097: InsecureRequestWarning: Unverified HTTPS request is being made to host 'build-oracc.museum.upenn.edu'. Adding certificate verification is strongly advised. See: https://urllib3.readthedocs.io/en/latest/advanced-usage.html#tls-warnings\n",
      "  warnings.warn(\n"
     ]
    },
    {
     "name": "stdout",
     "output_type": "stream",
     "text": [
      "Downloading http://build-oracc.museum.upenn.edu/json/adsd-adart2.zip saving as jsonzip/adsd-adart2.zip\n",
      "Waiting 3 seconds in order not to overload the ORACC server\n"
     ]
    },
    {
     "name": "stderr",
     "output_type": "stream",
     "text": [
      "  2%|▏         | 3/139 [00:13<10:24,  4.59s/it]c:\\Users\\valek\\AppData\\Local\\Programs\\Python\\Python313\\Lib\\site-packages\\urllib3\\connectionpool.py:1097: InsecureRequestWarning: Unverified HTTPS request is being made to host 'build-oracc.museum.upenn.edu'. Adding certificate verification is strongly advised. See: https://urllib3.readthedocs.io/en/latest/advanced-usage.html#tls-warnings\n",
      "  warnings.warn(\n"
     ]
    },
    {
     "name": "stdout",
     "output_type": "stream",
     "text": [
      "Downloading http://build-oracc.museum.upenn.edu/json/adsd-adart3.zip saving as jsonzip/adsd-adart3.zip\n",
      "Waiting 3 seconds in order not to overload the ORACC server\n"
     ]
    },
    {
     "name": "stderr",
     "output_type": "stream",
     "text": [
      "  3%|▎         | 4/139 [00:18<10:23,  4.62s/it]c:\\Users\\valek\\AppData\\Local\\Programs\\Python\\Python313\\Lib\\site-packages\\urllib3\\connectionpool.py:1097: InsecureRequestWarning: Unverified HTTPS request is being made to host 'build-oracc.museum.upenn.edu'. Adding certificate verification is strongly advised. See: https://urllib3.readthedocs.io/en/latest/advanced-usage.html#tls-warnings\n",
      "  warnings.warn(\n"
     ]
    },
    {
     "name": "stdout",
     "output_type": "stream",
     "text": [
      "Downloading http://build-oracc.museum.upenn.edu/json/adsd-adart5.zip saving as jsonzip/adsd-adart5.zip\n",
      "Waiting 3 seconds in order not to overload the ORACC server\n"
     ]
    },
    {
     "name": "stderr",
     "output_type": "stream",
     "text": [
      "  4%|▎         | 5/139 [00:22<10:08,  4.54s/it]c:\\Users\\valek\\AppData\\Local\\Programs\\Python\\Python313\\Lib\\site-packages\\urllib3\\connectionpool.py:1097: InsecureRequestWarning: Unverified HTTPS request is being made to host 'build-oracc.museum.upenn.edu'. Adding certificate verification is strongly advised. See: https://urllib3.readthedocs.io/en/latest/advanced-usage.html#tls-warnings\n",
      "  warnings.warn(\n"
     ]
    },
    {
     "name": "stdout",
     "output_type": "stream",
     "text": [
      "Downloading http://build-oracc.museum.upenn.edu/json/adsd-adart6.zip saving as jsonzip/adsd-adart6.zip\n",
      "Waiting 3 seconds in order not to overload the ORACC server\n"
     ]
    },
    {
     "name": "stderr",
     "output_type": "stream",
     "text": [
      "  4%|▍         | 6/139 [00:27<10:01,  4.53s/it]c:\\Users\\valek\\AppData\\Local\\Programs\\Python\\Python313\\Lib\\site-packages\\urllib3\\connectionpool.py:1097: InsecureRequestWarning: Unverified HTTPS request is being made to host 'build-oracc.museum.upenn.edu'. Adding certificate verification is strongly advised. See: https://urllib3.readthedocs.io/en/latest/advanced-usage.html#tls-warnings\n",
      "  warnings.warn(\n",
      "  5%|▌         | 7/139 [00:28<07:09,  3.26s/it]"
     ]
    },
    {
     "name": "stdout",
     "output_type": "stream",
     "text": [
      "http://build-oracc.museum.upenn.edu/json/aemw.zip does not exist.\n"
     ]
    },
    {
     "name": "stderr",
     "output_type": "stream",
     "text": [
      "c:\\Users\\valek\\AppData\\Local\\Programs\\Python\\Python313\\Lib\\site-packages\\urllib3\\connectionpool.py:1097: InsecureRequestWarning: Unverified HTTPS request is being made to host 'build-oracc.museum.upenn.edu'. Adding certificate verification is strongly advised. See: https://urllib3.readthedocs.io/en/latest/advanced-usage.html#tls-warnings\n",
      "  warnings.warn(\n"
     ]
    },
    {
     "name": "stdout",
     "output_type": "stream",
     "text": [
      "Downloading http://build-oracc.museum.upenn.edu/json/aemw-alalakh-idrimi.zip saving as jsonzip/aemw-alalakh-idrimi.zip\n",
      "Waiting 3 seconds in order not to overload the ORACC server\n"
     ]
    },
    {
     "name": "stderr",
     "output_type": "stream",
     "text": [
      "  6%|▌         | 8/139 [00:31<07:34,  3.47s/it]c:\\Users\\valek\\AppData\\Local\\Programs\\Python\\Python313\\Lib\\site-packages\\urllib3\\connectionpool.py:1097: InsecureRequestWarning: Unverified HTTPS request is being made to host 'build-oracc.museum.upenn.edu'. Adding certificate verification is strongly advised. See: https://urllib3.readthedocs.io/en/latest/advanced-usage.html#tls-warnings\n",
      "  warnings.warn(\n"
     ]
    },
    {
     "name": "stdout",
     "output_type": "stream",
     "text": [
      "Downloading http://build-oracc.museum.upenn.edu/json/aemw-amarna.zip saving as jsonzip/aemw-amarna.zip\n",
      "Waiting 3 seconds in order not to overload the ORACC server\n"
     ]
    },
    {
     "name": "stderr",
     "output_type": "stream",
     "text": [
      "  6%|▋         | 9/139 [00:36<08:19,  3.85s/it]c:\\Users\\valek\\AppData\\Local\\Programs\\Python\\Python313\\Lib\\site-packages\\urllib3\\connectionpool.py:1097: InsecureRequestWarning: Unverified HTTPS request is being made to host 'build-oracc.museum.upenn.edu'. Adding certificate verification is strongly advised. See: https://urllib3.readthedocs.io/en/latest/advanced-usage.html#tls-warnings\n",
      "  warnings.warn(\n"
     ]
    },
    {
     "name": "stdout",
     "output_type": "stream",
     "text": [
      "Downloading http://build-oracc.museum.upenn.edu/json/akklove.zip saving as jsonzip/akklove.zip\n",
      "Waiting 3 seconds in order not to overload the ORACC server\n"
     ]
    },
    {
     "name": "stderr",
     "output_type": "stream",
     "text": [
      "  7%|▋         | 10/139 [00:40<08:36,  4.00s/it]c:\\Users\\valek\\AppData\\Local\\Programs\\Python\\Python313\\Lib\\site-packages\\urllib3\\connectionpool.py:1097: InsecureRequestWarning: Unverified HTTPS request is being made to host 'build-oracc.museum.upenn.edu'. Adding certificate verification is strongly advised. See: https://urllib3.readthedocs.io/en/latest/advanced-usage.html#tls-warnings\n",
      "  warnings.warn(\n"
     ]
    },
    {
     "name": "stdout",
     "output_type": "stream",
     "text": [
      "Downloading http://build-oracc.museum.upenn.edu/json/amgg.zip saving as jsonzip/amgg.zip\n",
      "Waiting 3 seconds in order not to overload the ORACC server\n"
     ]
    },
    {
     "name": "stderr",
     "output_type": "stream",
     "text": [
      "  8%|▊         | 11/139 [00:45<08:35,  4.03s/it]c:\\Users\\valek\\AppData\\Local\\Programs\\Python\\Python313\\Lib\\site-packages\\urllib3\\connectionpool.py:1097: InsecureRequestWarning: Unverified HTTPS request is being made to host 'build-oracc.museum.upenn.edu'. Adding certificate verification is strongly advised. See: https://urllib3.readthedocs.io/en/latest/advanced-usage.html#tls-warnings\n",
      "  warnings.warn(\n"
     ]
    },
    {
     "name": "stdout",
     "output_type": "stream",
     "text": [
      "Downloading http://build-oracc.museum.upenn.edu/json/ario.zip saving as jsonzip/ario.zip\n",
      "Waiting 3 seconds in order not to overload the ORACC server\n"
     ]
    },
    {
     "name": "stderr",
     "output_type": "stream",
     "text": [
      "  9%|▊         | 12/139 [00:49<08:44,  4.13s/it]c:\\Users\\valek\\AppData\\Local\\Programs\\Python\\Python313\\Lib\\site-packages\\urllib3\\connectionpool.py:1097: InsecureRequestWarning: Unverified HTTPS request is being made to host 'build-oracc.museum.upenn.edu'. Adding certificate verification is strongly advised. See: https://urllib3.readthedocs.io/en/latest/advanced-usage.html#tls-warnings\n",
      "  warnings.warn(\n"
     ]
    },
    {
     "name": "stdout",
     "output_type": "stream",
     "text": [
      "Downloading http://build-oracc.museum.upenn.edu/json/armep.zip saving as jsonzip/armep.zip\n",
      "Waiting 3 seconds in order not to overload the ORACC server\n"
     ]
    },
    {
     "name": "stderr",
     "output_type": "stream",
     "text": [
      "  9%|▉         | 13/139 [01:03<14:51,  7.08s/it]c:\\Users\\valek\\AppData\\Local\\Programs\\Python\\Python313\\Lib\\site-packages\\urllib3\\connectionpool.py:1097: InsecureRequestWarning: Unverified HTTPS request is being made to host 'build-oracc.museum.upenn.edu'. Adding certificate verification is strongly advised. See: https://urllib3.readthedocs.io/en/latest/advanced-usage.html#tls-warnings\n",
      "  warnings.warn(\n"
     ]
    },
    {
     "name": "stdout",
     "output_type": "stream",
     "text": [
      "Downloading http://build-oracc.museum.upenn.edu/json/arrim.zip saving as jsonzip/arrim.zip\n",
      "Waiting 3 seconds in order not to overload the ORACC server\n"
     ]
    },
    {
     "name": "stderr",
     "output_type": "stream",
     "text": [
      " 10%|█         | 14/139 [01:06<12:31,  6.01s/it]c:\\Users\\valek\\AppData\\Local\\Programs\\Python\\Python313\\Lib\\site-packages\\urllib3\\connectionpool.py:1097: InsecureRequestWarning: Unverified HTTPS request is being made to host 'build-oracc.museum.upenn.edu'. Adding certificate verification is strongly advised. See: https://urllib3.readthedocs.io/en/latest/advanced-usage.html#tls-warnings\n",
      "  warnings.warn(\n"
     ]
    },
    {
     "name": "stdout",
     "output_type": "stream",
     "text": [
      "Downloading http://build-oracc.museum.upenn.edu/json/asbp.zip saving as jsonzip/asbp.zip\n",
      "Waiting 3 seconds in order not to overload the ORACC server\n"
     ]
    },
    {
     "name": "stderr",
     "output_type": "stream",
     "text": [
      " 11%|█         | 15/139 [01:13<12:47,  6.19s/it]c:\\Users\\valek\\AppData\\Local\\Programs\\Python\\Python313\\Lib\\site-packages\\urllib3\\connectionpool.py:1097: InsecureRequestWarning: Unverified HTTPS request is being made to host 'build-oracc.museum.upenn.edu'. Adding certificate verification is strongly advised. See: https://urllib3.readthedocs.io/en/latest/advanced-usage.html#tls-warnings\n",
      "  warnings.warn(\n"
     ]
    },
    {
     "name": "stdout",
     "output_type": "stream",
     "text": [
      "Downloading http://build-oracc.museum.upenn.edu/json/asbp-ninmed.zip saving as jsonzip/asbp-ninmed.zip\n",
      "Waiting 3 seconds in order not to overload the ORACC server\n"
     ]
    },
    {
     "name": "stderr",
     "output_type": "stream",
     "text": [
      " 12%|█▏        | 16/139 [01:18<11:47,  5.75s/it]c:\\Users\\valek\\AppData\\Local\\Programs\\Python\\Python313\\Lib\\site-packages\\urllib3\\connectionpool.py:1097: InsecureRequestWarning: Unverified HTTPS request is being made to host 'build-oracc.museum.upenn.edu'. Adding certificate verification is strongly advised. See: https://urllib3.readthedocs.io/en/latest/advanced-usage.html#tls-warnings\n",
      "  warnings.warn(\n"
     ]
    },
    {
     "name": "stdout",
     "output_type": "stream",
     "text": [
      "Downloading http://build-oracc.museum.upenn.edu/json/asbp-rlasb.zip saving as jsonzip/asbp-rlasb.zip\n",
      "Waiting 3 seconds in order not to overload the ORACC server\n"
     ]
    },
    {
     "name": "stderr",
     "output_type": "stream",
     "text": [
      " 12%|█▏        | 17/139 [01:22<10:32,  5.18s/it]c:\\Users\\valek\\AppData\\Local\\Programs\\Python\\Python313\\Lib\\site-packages\\urllib3\\connectionpool.py:1097: InsecureRequestWarning: Unverified HTTPS request is being made to host 'build-oracc.museum.upenn.edu'. Adding certificate verification is strongly advised. See: https://urllib3.readthedocs.io/en/latest/advanced-usage.html#tls-warnings\n",
      "  warnings.warn(\n"
     ]
    },
    {
     "name": "stdout",
     "output_type": "stream",
     "text": [
      "Downloading http://build-oracc.museum.upenn.edu/json/atae.zip saving as jsonzip/atae.zip\n",
      "Waiting 3 seconds in order not to overload the ORACC server\n"
     ]
    },
    {
     "name": "stderr",
     "output_type": "stream",
     "text": [
      " 13%|█▎        | 18/139 [01:37<16:32,  8.20s/it]c:\\Users\\valek\\AppData\\Local\\Programs\\Python\\Python313\\Lib\\site-packages\\urllib3\\connectionpool.py:1097: InsecureRequestWarning: Unverified HTTPS request is being made to host 'build-oracc.museum.upenn.edu'. Adding certificate verification is strongly advised. See: https://urllib3.readthedocs.io/en/latest/advanced-usage.html#tls-warnings\n",
      "  warnings.warn(\n"
     ]
    },
    {
     "name": "stdout",
     "output_type": "stream",
     "text": [
      "Downloading http://build-oracc.museum.upenn.edu/json/atae-assur.zip saving as jsonzip/atae-assur.zip\n",
      "Waiting 3 seconds in order not to overload the ORACC server\n"
     ]
    },
    {
     "name": "stderr",
     "output_type": "stream",
     "text": [
      " 14%|█▎        | 19/139 [01:41<14:10,  7.09s/it]c:\\Users\\valek\\AppData\\Local\\Programs\\Python\\Python313\\Lib\\site-packages\\urllib3\\connectionpool.py:1097: InsecureRequestWarning: Unverified HTTPS request is being made to host 'build-oracc.museum.upenn.edu'. Adding certificate verification is strongly advised. See: https://urllib3.readthedocs.io/en/latest/advanced-usage.html#tls-warnings\n",
      "  warnings.warn(\n"
     ]
    },
    {
     "name": "stdout",
     "output_type": "stream",
     "text": [
      "Downloading http://build-oracc.museum.upenn.edu/json/atae-burmarina.zip saving as jsonzip/atae-burmarina.zip\n",
      "Waiting 3 seconds in order not to overload the ORACC server\n"
     ]
    },
    {
     "name": "stderr",
     "output_type": "stream",
     "text": [
      " 14%|█▍        | 20/139 [01:46<12:26,  6.27s/it]c:\\Users\\valek\\AppData\\Local\\Programs\\Python\\Python313\\Lib\\site-packages\\urllib3\\connectionpool.py:1097: InsecureRequestWarning: Unverified HTTPS request is being made to host 'build-oracc.museum.upenn.edu'. Adding certificate verification is strongly advised. See: https://urllib3.readthedocs.io/en/latest/advanced-usage.html#tls-warnings\n",
      "  warnings.warn(\n"
     ]
    },
    {
     "name": "stdout",
     "output_type": "stream",
     "text": [
      "Downloading http://build-oracc.museum.upenn.edu/json/atae-durkatlimmu.zip saving as jsonzip/atae-durkatlimmu.zip\n",
      "Waiting 3 seconds in order not to overload the ORACC server\n"
     ]
    },
    {
     "name": "stderr",
     "output_type": "stream",
     "text": [
      " 15%|█▌        | 21/139 [01:50<11:22,  5.78s/it]c:\\Users\\valek\\AppData\\Local\\Programs\\Python\\Python313\\Lib\\site-packages\\urllib3\\connectionpool.py:1097: InsecureRequestWarning: Unverified HTTPS request is being made to host 'build-oracc.museum.upenn.edu'. Adding certificate verification is strongly advised. See: https://urllib3.readthedocs.io/en/latest/advanced-usage.html#tls-warnings\n",
      "  warnings.warn(\n"
     ]
    },
    {
     "name": "stdout",
     "output_type": "stream",
     "text": [
      "Downloading http://build-oracc.museum.upenn.edu/json/atae-durszarrukin.zip saving as jsonzip/atae-durszarrukin.zip\n",
      "Waiting 3 seconds in order not to overload the ORACC server\n"
     ]
    },
    {
     "name": "stderr",
     "output_type": "stream",
     "text": [
      " 16%|█▌        | 22/139 [01:54<10:12,  5.24s/it]c:\\Users\\valek\\AppData\\Local\\Programs\\Python\\Python313\\Lib\\site-packages\\urllib3\\connectionpool.py:1097: InsecureRequestWarning: Unverified HTTPS request is being made to host 'build-oracc.museum.upenn.edu'. Adding certificate verification is strongly advised. See: https://urllib3.readthedocs.io/en/latest/advanced-usage.html#tls-warnings\n",
      "  warnings.warn(\n"
     ]
    },
    {
     "name": "stdout",
     "output_type": "stream",
     "text": [
      "Downloading http://build-oracc.museum.upenn.edu/json/atae-guzana.zip saving as jsonzip/atae-guzana.zip\n",
      "Waiting 3 seconds in order not to overload the ORACC server\n"
     ]
    },
    {
     "name": "stderr",
     "output_type": "stream",
     "text": [
      " 17%|█▋        | 23/139 [01:59<09:36,  4.97s/it]c:\\Users\\valek\\AppData\\Local\\Programs\\Python\\Python313\\Lib\\site-packages\\urllib3\\connectionpool.py:1097: InsecureRequestWarning: Unverified HTTPS request is being made to host 'build-oracc.museum.upenn.edu'. Adding certificate verification is strongly advised. See: https://urllib3.readthedocs.io/en/latest/advanced-usage.html#tls-warnings\n",
      "  warnings.warn(\n"
     ]
    },
    {
     "name": "stdout",
     "output_type": "stream",
     "text": [
      "Downloading http://build-oracc.museum.upenn.edu/json/atae-huzirina.zip saving as jsonzip/atae-huzirina.zip\n",
      "Waiting 3 seconds in order not to overload the ORACC server\n"
     ]
    },
    {
     "name": "stderr",
     "output_type": "stream",
     "text": [
      " 17%|█▋        | 24/139 [02:03<09:06,  4.75s/it]c:\\Users\\valek\\AppData\\Local\\Programs\\Python\\Python313\\Lib\\site-packages\\urllib3\\connectionpool.py:1097: InsecureRequestWarning: Unverified HTTPS request is being made to host 'build-oracc.museum.upenn.edu'. Adding certificate verification is strongly advised. See: https://urllib3.readthedocs.io/en/latest/advanced-usage.html#tls-warnings\n",
      "  warnings.warn(\n"
     ]
    },
    {
     "name": "stdout",
     "output_type": "stream",
     "text": [
      "Downloading http://build-oracc.museum.upenn.edu/json/atae-imgurenlil.zip saving as jsonzip/atae-imgurenlil.zip\n",
      "Waiting 3 seconds in order not to overload the ORACC server\n"
     ]
    },
    {
     "name": "stderr",
     "output_type": "stream",
     "text": [
      " 18%|█▊        | 25/139 [02:07<08:39,  4.55s/it]c:\\Users\\valek\\AppData\\Local\\Programs\\Python\\Python313\\Lib\\site-packages\\urllib3\\connectionpool.py:1097: InsecureRequestWarning: Unverified HTTPS request is being made to host 'build-oracc.museum.upenn.edu'. Adding certificate verification is strongly advised. See: https://urllib3.readthedocs.io/en/latest/advanced-usage.html#tls-warnings\n",
      "  warnings.warn(\n"
     ]
    },
    {
     "name": "stdout",
     "output_type": "stream",
     "text": [
      "Downloading http://build-oracc.museum.upenn.edu/json/atae-kalhu.zip saving as jsonzip/atae-kalhu.zip\n",
      "Waiting 3 seconds in order not to overload the ORACC server\n"
     ]
    },
    {
     "name": "stderr",
     "output_type": "stream",
     "text": [
      " 19%|█▊        | 26/139 [02:12<08:47,  4.67s/it]c:\\Users\\valek\\AppData\\Local\\Programs\\Python\\Python313\\Lib\\site-packages\\urllib3\\connectionpool.py:1097: InsecureRequestWarning: Unverified HTTPS request is being made to host 'build-oracc.museum.upenn.edu'. Adding certificate verification is strongly advised. See: https://urllib3.readthedocs.io/en/latest/advanced-usage.html#tls-warnings\n",
      "  warnings.warn(\n"
     ]
    },
    {
     "name": "stdout",
     "output_type": "stream",
     "text": [
      "Downloading http://build-oracc.museum.upenn.edu/json/atae-kunalia.zip saving as jsonzip/atae-kunalia.zip\n",
      "Waiting 3 seconds in order not to overload the ORACC server\n"
     ]
    },
    {
     "name": "stderr",
     "output_type": "stream",
     "text": [
      " 19%|█▉        | 27/139 [02:16<08:24,  4.50s/it]c:\\Users\\valek\\AppData\\Local\\Programs\\Python\\Python313\\Lib\\site-packages\\urllib3\\connectionpool.py:1097: InsecureRequestWarning: Unverified HTTPS request is being made to host 'build-oracc.museum.upenn.edu'. Adding certificate verification is strongly advised. See: https://urllib3.readthedocs.io/en/latest/advanced-usage.html#tls-warnings\n",
      "  warnings.warn(\n"
     ]
    },
    {
     "name": "stdout",
     "output_type": "stream",
     "text": [
      "Downloading http://build-oracc.museum.upenn.edu/json/atae-mallanate.zip saving as jsonzip/atae-mallanate.zip\n",
      "Waiting 3 seconds in order not to overload the ORACC server\n"
     ]
    },
    {
     "name": "stderr",
     "output_type": "stream",
     "text": [
      " 20%|██        | 28/139 [02:20<08:09,  4.41s/it]c:\\Users\\valek\\AppData\\Local\\Programs\\Python\\Python313\\Lib\\site-packages\\urllib3\\connectionpool.py:1097: InsecureRequestWarning: Unverified HTTPS request is being made to host 'build-oracc.museum.upenn.edu'. Adding certificate verification is strongly advised. See: https://urllib3.readthedocs.io/en/latest/advanced-usage.html#tls-warnings\n",
      "  warnings.warn(\n"
     ]
    },
    {
     "name": "stdout",
     "output_type": "stream",
     "text": [
      "Downloading http://build-oracc.museum.upenn.edu/json/atae-marqasu.zip saving as jsonzip/atae-marqasu.zip\n",
      "Waiting 3 seconds in order not to overload the ORACC server\n"
     ]
    },
    {
     "name": "stderr",
     "output_type": "stream",
     "text": [
      " 21%|██        | 29/139 [02:24<07:54,  4.32s/it]c:\\Users\\valek\\AppData\\Local\\Programs\\Python\\Python313\\Lib\\site-packages\\urllib3\\connectionpool.py:1097: InsecureRequestWarning: Unverified HTTPS request is being made to host 'build-oracc.museum.upenn.edu'. Adding certificate verification is strongly advised. See: https://urllib3.readthedocs.io/en/latest/advanced-usage.html#tls-warnings\n",
      "  warnings.warn(\n"
     ]
    },
    {
     "name": "stdout",
     "output_type": "stream",
     "text": [
      "Downloading http://build-oracc.museum.upenn.edu/json/atae-nineveh.zip saving as jsonzip/atae-nineveh.zip\n",
      "Waiting 3 seconds in order not to overload the ORACC server\n"
     ]
    },
    {
     "name": "stderr",
     "output_type": "stream",
     "text": [
      " 22%|██▏       | 30/139 [02:31<09:01,  4.97s/it]c:\\Users\\valek\\AppData\\Local\\Programs\\Python\\Python313\\Lib\\site-packages\\urllib3\\connectionpool.py:1097: InsecureRequestWarning: Unverified HTTPS request is being made to host 'build-oracc.museum.upenn.edu'. Adding certificate verification is strongly advised. See: https://urllib3.readthedocs.io/en/latest/advanced-usage.html#tls-warnings\n",
      "  warnings.warn(\n"
     ]
    },
    {
     "name": "stdout",
     "output_type": "stream",
     "text": [
      "Downloading http://build-oracc.museum.upenn.edu/json/atae-samal.zip saving as jsonzip/atae-samal.zip\n",
      "Waiting 3 seconds in order not to overload the ORACC server\n"
     ]
    },
    {
     "name": "stderr",
     "output_type": "stream",
     "text": [
      " 22%|██▏       | 31/139 [02:35<08:18,  4.61s/it]c:\\Users\\valek\\AppData\\Local\\Programs\\Python\\Python313\\Lib\\site-packages\\urllib3\\connectionpool.py:1097: InsecureRequestWarning: Unverified HTTPS request is being made to host 'build-oracc.museum.upenn.edu'. Adding certificate verification is strongly advised. See: https://urllib3.readthedocs.io/en/latest/advanced-usage.html#tls-warnings\n",
      "  warnings.warn(\n"
     ]
    },
    {
     "name": "stdout",
     "output_type": "stream",
     "text": [
      "Downloading http://build-oracc.museum.upenn.edu/json/atae-szibaniba.zip saving as jsonzip/atae-szibaniba.zip\n",
      "Waiting 3 seconds in order not to overload the ORACC server\n"
     ]
    },
    {
     "name": "stderr",
     "output_type": "stream",
     "text": [
      " 23%|██▎       | 32/139 [02:39<07:54,  4.43s/it]c:\\Users\\valek\\AppData\\Local\\Programs\\Python\\Python313\\Lib\\site-packages\\urllib3\\connectionpool.py:1097: InsecureRequestWarning: Unverified HTTPS request is being made to host 'build-oracc.museum.upenn.edu'. Adding certificate verification is strongly advised. See: https://urllib3.readthedocs.io/en/latest/advanced-usage.html#tls-warnings\n",
      "  warnings.warn(\n"
     ]
    },
    {
     "name": "stdout",
     "output_type": "stream",
     "text": [
      "Downloading http://build-oracc.museum.upenn.edu/json/atae-tilbarsip.zip saving as jsonzip/atae-tilbarsip.zip\n",
      "Waiting 3 seconds in order not to overload the ORACC server\n"
     ]
    },
    {
     "name": "stderr",
     "output_type": "stream",
     "text": [
      " 24%|██▎       | 33/139 [02:43<07:42,  4.36s/it]c:\\Users\\valek\\AppData\\Local\\Programs\\Python\\Python313\\Lib\\site-packages\\urllib3\\connectionpool.py:1097: InsecureRequestWarning: Unverified HTTPS request is being made to host 'build-oracc.museum.upenn.edu'. Adding certificate verification is strongly advised. See: https://urllib3.readthedocs.io/en/latest/advanced-usage.html#tls-warnings\n",
      "  warnings.warn(\n"
     ]
    },
    {
     "name": "stdout",
     "output_type": "stream",
     "text": [
      "Downloading http://build-oracc.museum.upenn.edu/json/atae-tuszhan.zip saving as jsonzip/atae-tuszhan.zip\n",
      "Waiting 3 seconds in order not to overload the ORACC server\n"
     ]
    },
    {
     "name": "stderr",
     "output_type": "stream",
     "text": [
      " 24%|██▍       | 34/139 [02:47<07:25,  4.24s/it]c:\\Users\\valek\\AppData\\Local\\Programs\\Python\\Python313\\Lib\\site-packages\\urllib3\\connectionpool.py:1097: InsecureRequestWarning: Unverified HTTPS request is being made to host 'build-oracc.museum.upenn.edu'. Adding certificate verification is strongly advised. See: https://urllib3.readthedocs.io/en/latest/advanced-usage.html#tls-warnings\n",
      "  warnings.warn(\n"
     ]
    },
    {
     "name": "stdout",
     "output_type": "stream",
     "text": [
      "Downloading http://build-oracc.museum.upenn.edu/json/babcity.zip saving as jsonzip/babcity.zip\n",
      "Waiting 3 seconds in order not to overload the ORACC server\n"
     ]
    },
    {
     "name": "stderr",
     "output_type": "stream",
     "text": [
      " 25%|██▌       | 35/139 [02:51<07:27,  4.30s/it]c:\\Users\\valek\\AppData\\Local\\Programs\\Python\\Python313\\Lib\\site-packages\\urllib3\\connectionpool.py:1097: InsecureRequestWarning: Unverified HTTPS request is being made to host 'build-oracc.museum.upenn.edu'. Adding certificate verification is strongly advised. See: https://urllib3.readthedocs.io/en/latest/advanced-usage.html#tls-warnings\n",
      "  warnings.warn(\n"
     ]
    },
    {
     "name": "stdout",
     "output_type": "stream",
     "text": [
      "Downloading http://build-oracc.museum.upenn.edu/json/balt.zip saving as jsonzip/balt.zip\n",
      "Waiting 3 seconds in order not to overload the ORACC server\n"
     ]
    },
    {
     "name": "stderr",
     "output_type": "stream",
     "text": [
      " 26%|██▌       | 36/139 [02:59<09:21,  5.45s/it]c:\\Users\\valek\\AppData\\Local\\Programs\\Python\\Python313\\Lib\\site-packages\\urllib3\\connectionpool.py:1097: InsecureRequestWarning: Unverified HTTPS request is being made to host 'build-oracc.museum.upenn.edu'. Adding certificate verification is strongly advised. See: https://urllib3.readthedocs.io/en/latest/advanced-usage.html#tls-warnings\n",
      "  warnings.warn(\n"
     ]
    },
    {
     "name": "stdout",
     "output_type": "stream",
     "text": [
      "Downloading http://build-oracc.museum.upenn.edu/json/blms.zip saving as jsonzip/blms.zip\n",
      "Waiting 3 seconds in order not to overload the ORACC server\n"
     ]
    },
    {
     "name": "stderr",
     "output_type": "stream",
     "text": [
      " 27%|██▋       | 37/139 [03:04<08:51,  5.21s/it]c:\\Users\\valek\\AppData\\Local\\Programs\\Python\\Python313\\Lib\\site-packages\\urllib3\\connectionpool.py:1097: InsecureRequestWarning: Unverified HTTPS request is being made to host 'build-oracc.museum.upenn.edu'. Adding certificate verification is strongly advised. See: https://urllib3.readthedocs.io/en/latest/advanced-usage.html#tls-warnings\n",
      "  warnings.warn(\n"
     ]
    },
    {
     "name": "stdout",
     "output_type": "stream",
     "text": [
      "Downloading http://build-oracc.museum.upenn.edu/json/borsippa.zip saving as jsonzip/borsippa.zip\n",
      "Waiting 3 seconds in order not to overload the ORACC server\n"
     ]
    },
    {
     "name": "stderr",
     "output_type": "stream",
     "text": [
      " 27%|██▋       | 38/139 [03:08<08:21,  4.96s/it]c:\\Users\\valek\\AppData\\Local\\Programs\\Python\\Python313\\Lib\\site-packages\\urllib3\\connectionpool.py:1097: InsecureRequestWarning: Unverified HTTPS request is being made to host 'build-oracc.museum.upenn.edu'. Adding certificate verification is strongly advised. See: https://urllib3.readthedocs.io/en/latest/advanced-usage.html#tls-warnings\n",
      "  warnings.warn(\n"
     ]
    },
    {
     "name": "stdout",
     "output_type": "stream",
     "text": [
      "Downloading http://build-oracc.museum.upenn.edu/json/btmao.zip saving as jsonzip/btmao.zip\n",
      "Waiting 3 seconds in order not to overload the ORACC server\n"
     ]
    },
    {
     "name": "stderr",
     "output_type": "stream",
     "text": [
      " 28%|██▊       | 39/139 [03:15<09:01,  5.41s/it]c:\\Users\\valek\\AppData\\Local\\Programs\\Python\\Python313\\Lib\\site-packages\\urllib3\\connectionpool.py:1097: InsecureRequestWarning: Unverified HTTPS request is being made to host 'build-oracc.museum.upenn.edu'. Adding certificate verification is strongly advised. See: https://urllib3.readthedocs.io/en/latest/advanced-usage.html#tls-warnings\n",
      "  warnings.warn(\n"
     ]
    },
    {
     "name": "stdout",
     "output_type": "stream",
     "text": [
      "Downloading http://build-oracc.museum.upenn.edu/json/btto.zip saving as jsonzip/btto.zip\n",
      "Waiting 3 seconds in order not to overload the ORACC server\n"
     ]
    },
    {
     "name": "stderr",
     "output_type": "stream",
     "text": [
      " 29%|██▉       | 40/139 [03:19<08:25,  5.11s/it]c:\\Users\\valek\\AppData\\Local\\Programs\\Python\\Python313\\Lib\\site-packages\\urllib3\\connectionpool.py:1097: InsecureRequestWarning: Unverified HTTPS request is being made to host 'build-oracc.museum.upenn.edu'. Adding certificate verification is strongly advised. See: https://urllib3.readthedocs.io/en/latest/advanced-usage.html#tls-warnings\n",
      "  warnings.warn(\n",
      " 29%|██▉       | 41/139 [03:20<06:09,  3.77s/it]"
     ]
    },
    {
     "name": "stdout",
     "output_type": "stream",
     "text": [
      "http://build-oracc.museum.upenn.edu/json/cams-akno.zip does not exist.\n"
     ]
    },
    {
     "name": "stderr",
     "output_type": "stream",
     "text": [
      "c:\\Users\\valek\\AppData\\Local\\Programs\\Python\\Python313\\Lib\\site-packages\\urllib3\\connectionpool.py:1097: InsecureRequestWarning: Unverified HTTPS request is being made to host 'build-oracc.museum.upenn.edu'. Adding certificate verification is strongly advised. See: https://urllib3.readthedocs.io/en/latest/advanced-usage.html#tls-warnings\n",
      "  warnings.warn(\n"
     ]
    },
    {
     "name": "stdout",
     "output_type": "stream",
     "text": [
      "Downloading http://build-oracc.museum.upenn.edu/json/cams-barutu.zip saving as jsonzip/cams-barutu.zip\n",
      "Waiting 3 seconds in order not to overload the ORACC server\n"
     ]
    },
    {
     "name": "stderr",
     "output_type": "stream",
     "text": [
      " 30%|███       | 42/139 [03:24<06:11,  3.83s/it]c:\\Users\\valek\\AppData\\Local\\Programs\\Python\\Python313\\Lib\\site-packages\\urllib3\\connectionpool.py:1097: InsecureRequestWarning: Unverified HTTPS request is being made to host 'build-oracc.museum.upenn.edu'. Adding certificate verification is strongly advised. See: https://urllib3.readthedocs.io/en/latest/advanced-usage.html#tls-warnings\n",
      "  warnings.warn(\n"
     ]
    },
    {
     "name": "stdout",
     "output_type": "stream",
     "text": [
      "Downloading http://build-oracc.museum.upenn.edu/json/cams-gkab.zip saving as jsonzip/cams-gkab.zip\n",
      "Waiting 3 seconds in order not to overload the ORACC server\n"
     ]
    },
    {
     "name": "stderr",
     "output_type": "stream",
     "text": [
      " 31%|███       | 43/139 [03:29<06:50,  4.28s/it]c:\\Users\\valek\\AppData\\Local\\Programs\\Python\\Python313\\Lib\\site-packages\\urllib3\\connectionpool.py:1097: InsecureRequestWarning: Unverified HTTPS request is being made to host 'build-oracc.museum.upenn.edu'. Adding certificate verification is strongly advised. See: https://urllib3.readthedocs.io/en/latest/advanced-usage.html#tls-warnings\n",
      "  warnings.warn(\n"
     ]
    },
    {
     "name": "stdout",
     "output_type": "stream",
     "text": [
      "Downloading http://build-oracc.museum.upenn.edu/json/cams-ludlul.zip saving as jsonzip/cams-ludlul.zip\n",
      "Waiting 3 seconds in order not to overload the ORACC server\n"
     ]
    },
    {
     "name": "stderr",
     "output_type": "stream",
     "text": [
      " 32%|███▏      | 44/139 [03:33<06:40,  4.22s/it]c:\\Users\\valek\\AppData\\Local\\Programs\\Python\\Python313\\Lib\\site-packages\\urllib3\\connectionpool.py:1097: InsecureRequestWarning: Unverified HTTPS request is being made to host 'build-oracc.museum.upenn.edu'. Adding certificate verification is strongly advised. See: https://urllib3.readthedocs.io/en/latest/advanced-usage.html#tls-warnings\n",
      "  warnings.warn(\n"
     ]
    },
    {
     "name": "stdout",
     "output_type": "stream",
     "text": [
      "Downloading http://build-oracc.museum.upenn.edu/json/cams-selbi.zip saving as jsonzip/cams-selbi.zip\n",
      "Waiting 3 seconds in order not to overload the ORACC server\n"
     ]
    },
    {
     "name": "stderr",
     "output_type": "stream",
     "text": [
      " 32%|███▏      | 45/139 [03:37<06:25,  4.10s/it]c:\\Users\\valek\\AppData\\Local\\Programs\\Python\\Python313\\Lib\\site-packages\\urllib3\\connectionpool.py:1097: InsecureRequestWarning: Unverified HTTPS request is being made to host 'build-oracc.museum.upenn.edu'. Adding certificate verification is strongly advised. See: https://urllib3.readthedocs.io/en/latest/advanced-usage.html#tls-warnings\n",
      "  warnings.warn(\n"
     ]
    },
    {
     "name": "stdout",
     "output_type": "stream",
     "text": [
      "Downloading http://build-oracc.museum.upenn.edu/json/cams-tlab.zip saving as jsonzip/cams-tlab.zip\n",
      "Waiting 3 seconds in order not to overload the ORACC server\n"
     ]
    },
    {
     "name": "stderr",
     "output_type": "stream",
     "text": [
      " 33%|███▎      | 46/139 [03:42<06:38,  4.29s/it]c:\\Users\\valek\\AppData\\Local\\Programs\\Python\\Python313\\Lib\\site-packages\\urllib3\\connectionpool.py:1097: InsecureRequestWarning: Unverified HTTPS request is being made to host 'build-oracc.museum.upenn.edu'. Adding certificate verification is strongly advised. See: https://urllib3.readthedocs.io/en/latest/advanced-usage.html#tls-warnings\n",
      "  warnings.warn(\n",
      " 34%|███▍      | 47/139 [03:42<04:50,  3.16s/it]"
     ]
    },
    {
     "name": "stdout",
     "output_type": "stream",
     "text": [
      "http://build-oracc.museum.upenn.edu/json/cdli.zip does not exist.\n"
     ]
    },
    {
     "name": "stderr",
     "output_type": "stream",
     "text": [
      "c:\\Users\\valek\\AppData\\Local\\Programs\\Python\\Python313\\Lib\\site-packages\\urllib3\\connectionpool.py:1097: InsecureRequestWarning: Unverified HTTPS request is being made to host 'build-oracc.museum.upenn.edu'. Adding certificate verification is strongly advised. See: https://urllib3.readthedocs.io/en/latest/advanced-usage.html#tls-warnings\n",
      "  warnings.warn(\n"
     ]
    },
    {
     "name": "stdout",
     "output_type": "stream",
     "text": [
      "Downloading http://build-oracc.museum.upenn.edu/json/ckst.zip saving as jsonzip/ckst.zip\n",
      "Waiting 3 seconds in order not to overload the ORACC server\n"
     ]
    },
    {
     "name": "stderr",
     "output_type": "stream",
     "text": [
      " 35%|███▍      | 48/139 [03:46<05:16,  3.48s/it]c:\\Users\\valek\\AppData\\Local\\Programs\\Python\\Python313\\Lib\\site-packages\\urllib3\\connectionpool.py:1097: InsecureRequestWarning: Unverified HTTPS request is being made to host 'build-oracc.museum.upenn.edu'. Adding certificate verification is strongly advised. See: https://urllib3.readthedocs.io/en/latest/advanced-usage.html#tls-warnings\n",
      "  warnings.warn(\n"
     ]
    },
    {
     "name": "stdout",
     "output_type": "stream",
     "text": [
      "Downloading http://build-oracc.museum.upenn.edu/json/cmawro.zip saving as jsonzip/cmawro.zip\n",
      "Waiting 3 seconds in order not to overload the ORACC server\n"
     ]
    },
    {
     "name": "stderr",
     "output_type": "stream",
     "text": [
      " 35%|███▌      | 49/139 [03:51<05:45,  3.84s/it]c:\\Users\\valek\\AppData\\Local\\Programs\\Python\\Python313\\Lib\\site-packages\\urllib3\\connectionpool.py:1097: InsecureRequestWarning: Unverified HTTPS request is being made to host 'build-oracc.museum.upenn.edu'. Adding certificate verification is strongly advised. See: https://urllib3.readthedocs.io/en/latest/advanced-usage.html#tls-warnings\n",
      "  warnings.warn(\n"
     ]
    },
    {
     "name": "stdout",
     "output_type": "stream",
     "text": [
      "Downloading http://build-oracc.museum.upenn.edu/json/cmawro-cmawr1.zip saving as jsonzip/cmawro-cmawr1.zip\n",
      "Waiting 3 seconds in order not to overload the ORACC server\n"
     ]
    },
    {
     "name": "stderr",
     "output_type": "stream",
     "text": [
      " 36%|███▌      | 50/139 [03:56<06:01,  4.06s/it]c:\\Users\\valek\\AppData\\Local\\Programs\\Python\\Python313\\Lib\\site-packages\\urllib3\\connectionpool.py:1097: InsecureRequestWarning: Unverified HTTPS request is being made to host 'build-oracc.museum.upenn.edu'. Adding certificate verification is strongly advised. See: https://urllib3.readthedocs.io/en/latest/advanced-usage.html#tls-warnings\n",
      "  warnings.warn(\n"
     ]
    },
    {
     "name": "stdout",
     "output_type": "stream",
     "text": [
      "Downloading http://build-oracc.museum.upenn.edu/json/cmawro-cmawr2.zip saving as jsonzip/cmawro-cmawr2.zip\n",
      "Waiting 3 seconds in order not to overload the ORACC server\n"
     ]
    },
    {
     "name": "stderr",
     "output_type": "stream",
     "text": [
      " 37%|███▋      | 51/139 [04:00<06:07,  4.17s/it]c:\\Users\\valek\\AppData\\Local\\Programs\\Python\\Python313\\Lib\\site-packages\\urllib3\\connectionpool.py:1097: InsecureRequestWarning: Unverified HTTPS request is being made to host 'build-oracc.museum.upenn.edu'. Adding certificate verification is strongly advised. See: https://urllib3.readthedocs.io/en/latest/advanced-usage.html#tls-warnings\n",
      "  warnings.warn(\n"
     ]
    },
    {
     "name": "stdout",
     "output_type": "stream",
     "text": [
      "Downloading http://build-oracc.museum.upenn.edu/json/cmawro-cmawr3.zip saving as jsonzip/cmawro-cmawr3.zip\n",
      "Waiting 3 seconds in order not to overload the ORACC server\n"
     ]
    },
    {
     "name": "stderr",
     "output_type": "stream",
     "text": [
      " 37%|███▋      | 52/139 [04:05<06:08,  4.24s/it]c:\\Users\\valek\\AppData\\Local\\Programs\\Python\\Python313\\Lib\\site-packages\\urllib3\\connectionpool.py:1097: InsecureRequestWarning: Unverified HTTPS request is being made to host 'build-oracc.museum.upenn.edu'. Adding certificate verification is strongly advised. See: https://urllib3.readthedocs.io/en/latest/advanced-usage.html#tls-warnings\n",
      "  warnings.warn(\n"
     ]
    },
    {
     "name": "stdout",
     "output_type": "stream",
     "text": [
      "Downloading http://build-oracc.museum.upenn.edu/json/cmawro-maqlu.zip saving as jsonzip/cmawro-maqlu.zip\n",
      "Waiting 3 seconds in order not to overload the ORACC server\n"
     ]
    },
    {
     "name": "stderr",
     "output_type": "stream",
     "text": [
      " 38%|███▊      | 53/139 [04:09<06:08,  4.28s/it]c:\\Users\\valek\\AppData\\Local\\Programs\\Python\\Python313\\Lib\\site-packages\\urllib3\\connectionpool.py:1097: InsecureRequestWarning: Unverified HTTPS request is being made to host 'build-oracc.museum.upenn.edu'. Adding certificate verification is strongly advised. See: https://urllib3.readthedocs.io/en/latest/advanced-usage.html#tls-warnings\n",
      "  warnings.warn(\n"
     ]
    },
    {
     "name": "stdout",
     "output_type": "stream",
     "text": [
      "Downloading http://build-oracc.museum.upenn.edu/json/contrib-amarna.zip saving as jsonzip/contrib-amarna.zip\n",
      "Waiting 3 seconds in order not to overload the ORACC server\n"
     ]
    },
    {
     "name": "stderr",
     "output_type": "stream",
     "text": [
      " 39%|███▉      | 54/139 [04:13<06:07,  4.32s/it]c:\\Users\\valek\\AppData\\Local\\Programs\\Python\\Python313\\Lib\\site-packages\\urllib3\\connectionpool.py:1097: InsecureRequestWarning: Unverified HTTPS request is being made to host 'build-oracc.museum.upenn.edu'. Adding certificate verification is strongly advised. See: https://urllib3.readthedocs.io/en/latest/advanced-usage.html#tls-warnings\n",
      "  warnings.warn(\n"
     ]
    },
    {
     "name": "stdout",
     "output_type": "stream",
     "text": [
      "Downloading http://build-oracc.museum.upenn.edu/json/contrib-jacobsen.zip saving as jsonzip/contrib-jacobsen.zip\n",
      "Waiting 3 seconds in order not to overload the ORACC server\n"
     ]
    },
    {
     "name": "stderr",
     "output_type": "stream",
     "text": [
      " 40%|███▉      | 55/139 [04:17<05:43,  4.09s/it]c:\\Users\\valek\\AppData\\Local\\Programs\\Python\\Python313\\Lib\\site-packages\\urllib3\\connectionpool.py:1097: InsecureRequestWarning: Unverified HTTPS request is being made to host 'build-oracc.museum.upenn.edu'. Adding certificate verification is strongly advised. See: https://urllib3.readthedocs.io/en/latest/advanced-usage.html#tls-warnings\n",
      "  warnings.warn(\n"
     ]
    },
    {
     "name": "stdout",
     "output_type": "stream",
     "text": [
      "Downloading http://build-oracc.museum.upenn.edu/json/contrib-lambert.zip saving as jsonzip/contrib-lambert.zip\n",
      "Waiting 3 seconds in order not to overload the ORACC server\n"
     ]
    },
    {
     "name": "stderr",
     "output_type": "stream",
     "text": [
      " 40%|████      | 56/139 [04:20<05:26,  3.93s/it]c:\\Users\\valek\\AppData\\Local\\Programs\\Python\\Python313\\Lib\\site-packages\\urllib3\\connectionpool.py:1097: InsecureRequestWarning: Unverified HTTPS request is being made to host 'build-oracc.museum.upenn.edu'. Adding certificate verification is strongly advised. See: https://urllib3.readthedocs.io/en/latest/advanced-usage.html#tls-warnings\n",
      "  warnings.warn(\n",
      " 41%|████      | 57/139 [04:21<04:01,  2.95s/it]"
     ]
    },
    {
     "name": "stdout",
     "output_type": "stream",
     "text": [
      "http://build-oracc.museum.upenn.edu/json/ctij.zip does not exist.\n"
     ]
    },
    {
     "name": "stderr",
     "output_type": "stream",
     "text": [
      "c:\\Users\\valek\\AppData\\Local\\Programs\\Python\\Python313\\Lib\\site-packages\\urllib3\\connectionpool.py:1097: InsecureRequestWarning: Unverified HTTPS request is being made to host 'build-oracc.museum.upenn.edu'. Adding certificate verification is strongly advised. See: https://urllib3.readthedocs.io/en/latest/advanced-usage.html#tls-warnings\n",
      "  warnings.warn(\n"
     ]
    },
    {
     "name": "stdout",
     "output_type": "stream",
     "text": [
      "Downloading http://build-oracc.museum.upenn.edu/json/dcclt.zip saving as jsonzip/dcclt.zip\n",
      "Waiting 3 seconds in order not to overload the ORACC server\n"
     ]
    },
    {
     "name": "stderr",
     "output_type": "stream",
     "text": [
      " 42%|████▏     | 58/139 [04:29<05:52,  4.35s/it]c:\\Users\\valek\\AppData\\Local\\Programs\\Python\\Python313\\Lib\\site-packages\\urllib3\\connectionpool.py:1097: InsecureRequestWarning: Unverified HTTPS request is being made to host 'build-oracc.museum.upenn.edu'. Adding certificate verification is strongly advised. See: https://urllib3.readthedocs.io/en/latest/advanced-usage.html#tls-warnings\n",
      "  warnings.warn(\n"
     ]
    },
    {
     "name": "stdout",
     "output_type": "stream",
     "text": [
      "Downloading http://build-oracc.museum.upenn.edu/json/dcclt-ebla.zip saving as jsonzip/dcclt-ebla.zip\n",
      "Waiting 3 seconds in order not to overload the ORACC server\n"
     ]
    },
    {
     "name": "stderr",
     "output_type": "stream",
     "text": [
      " 42%|████▏     | 59/139 [04:33<05:44,  4.31s/it]c:\\Users\\valek\\AppData\\Local\\Programs\\Python\\Python313\\Lib\\site-packages\\urllib3\\connectionpool.py:1097: InsecureRequestWarning: Unverified HTTPS request is being made to host 'build-oracc.museum.upenn.edu'. Adding certificate verification is strongly advised. See: https://urllib3.readthedocs.io/en/latest/advanced-usage.html#tls-warnings\n",
      "  warnings.warn(\n"
     ]
    },
    {
     "name": "stdout",
     "output_type": "stream",
     "text": [
      "Downloading http://build-oracc.museum.upenn.edu/json/dcclt-jena.zip saving as jsonzip/dcclt-jena.zip\n",
      "Waiting 3 seconds in order not to overload the ORACC server\n"
     ]
    },
    {
     "name": "stderr",
     "output_type": "stream",
     "text": [
      " 43%|████▎     | 60/139 [04:37<05:37,  4.27s/it]c:\\Users\\valek\\AppData\\Local\\Programs\\Python\\Python313\\Lib\\site-packages\\urllib3\\connectionpool.py:1097: InsecureRequestWarning: Unverified HTTPS request is being made to host 'build-oracc.museum.upenn.edu'. Adding certificate verification is strongly advised. See: https://urllib3.readthedocs.io/en/latest/advanced-usage.html#tls-warnings\n",
      "  warnings.warn(\n"
     ]
    },
    {
     "name": "stdout",
     "output_type": "stream",
     "text": [
      "Downloading http://build-oracc.museum.upenn.edu/json/dcclt-nineveh.zip saving as jsonzip/dcclt-nineveh.zip\n",
      "Waiting 3 seconds in order not to overload the ORACC server\n"
     ]
    },
    {
     "name": "stderr",
     "output_type": "stream",
     "text": [
      " 44%|████▍     | 61/139 [04:42<05:46,  4.44s/it]c:\\Users\\valek\\AppData\\Local\\Programs\\Python\\Python313\\Lib\\site-packages\\urllib3\\connectionpool.py:1097: InsecureRequestWarning: Unverified HTTPS request is being made to host 'build-oracc.museum.upenn.edu'. Adding certificate verification is strongly advised. See: https://urllib3.readthedocs.io/en/latest/advanced-usage.html#tls-warnings\n",
      "  warnings.warn(\n"
     ]
    },
    {
     "name": "stdout",
     "output_type": "stream",
     "text": [
      "Downloading http://build-oracc.museum.upenn.edu/json/dcclt-signlists.zip saving as jsonzip/dcclt-signlists.zip\n",
      "Waiting 3 seconds in order not to overload the ORACC server\n"
     ]
    },
    {
     "name": "stderr",
     "output_type": "stream",
     "text": [
      " 45%|████▍     | 62/139 [04:47<06:04,  4.73s/it]c:\\Users\\valek\\AppData\\Local\\Programs\\Python\\Python313\\Lib\\site-packages\\urllib3\\connectionpool.py:1097: InsecureRequestWarning: Unverified HTTPS request is being made to host 'build-oracc.museum.upenn.edu'. Adding certificate verification is strongly advised. See: https://urllib3.readthedocs.io/en/latest/advanced-usage.html#tls-warnings\n",
      "  warnings.warn(\n"
     ]
    },
    {
     "name": "stdout",
     "output_type": "stream",
     "text": [
      "Downloading http://build-oracc.museum.upenn.edu/json/dccmt.zip saving as jsonzip/dccmt.zip\n",
      "Waiting 3 seconds in order not to overload the ORACC server\n"
     ]
    },
    {
     "name": "stderr",
     "output_type": "stream",
     "text": [
      " 45%|████▌     | 63/139 [04:52<05:53,  4.66s/it]c:\\Users\\valek\\AppData\\Local\\Programs\\Python\\Python313\\Lib\\site-packages\\urllib3\\connectionpool.py:1097: InsecureRequestWarning: Unverified HTTPS request is being made to host 'build-oracc.museum.upenn.edu'. Adding certificate verification is strongly advised. See: https://urllib3.readthedocs.io/en/latest/advanced-usage.html#tls-warnings\n",
      "  warnings.warn(\n"
     ]
    },
    {
     "name": "stdout",
     "output_type": "stream",
     "text": [
      "Downloading http://build-oracc.museum.upenn.edu/json/dsst.zip saving as jsonzip/dsst.zip\n",
      "Waiting 3 seconds in order not to overload the ORACC server\n"
     ]
    },
    {
     "name": "stderr",
     "output_type": "stream",
     "text": [
      " 46%|████▌     | 64/139 [04:57<05:50,  4.67s/it]c:\\Users\\valek\\AppData\\Local\\Programs\\Python\\Python313\\Lib\\site-packages\\urllib3\\connectionpool.py:1097: InsecureRequestWarning: Unverified HTTPS request is being made to host 'build-oracc.museum.upenn.edu'. Adding certificate verification is strongly advised. See: https://urllib3.readthedocs.io/en/latest/advanced-usage.html#tls-warnings\n",
      "  warnings.warn(\n"
     ]
    },
    {
     "name": "stdout",
     "output_type": "stream",
     "text": [
      "Downloading http://build-oracc.museum.upenn.edu/json/ecut.zip saving as jsonzip/ecut.zip\n",
      "Waiting 3 seconds in order not to overload the ORACC server\n"
     ]
    },
    {
     "name": "stderr",
     "output_type": "stream",
     "text": [
      " 47%|████▋     | 65/139 [05:01<05:42,  4.63s/it]c:\\Users\\valek\\AppData\\Local\\Programs\\Python\\Python313\\Lib\\site-packages\\urllib3\\connectionpool.py:1097: InsecureRequestWarning: Unverified HTTPS request is being made to host 'build-oracc.museum.upenn.edu'. Adding certificate verification is strongly advised. See: https://urllib3.readthedocs.io/en/latest/advanced-usage.html#tls-warnings\n",
      "  warnings.warn(\n"
     ]
    },
    {
     "name": "stdout",
     "output_type": "stream",
     "text": [
      "Downloading http://build-oracc.museum.upenn.edu/json/edlex.zip saving as jsonzip/edlex.zip\n",
      "Waiting 3 seconds in order not to overload the ORACC server\n"
     ]
    },
    {
     "name": "stderr",
     "output_type": "stream",
     "text": [
      " 47%|████▋     | 66/139 [05:06<05:37,  4.62s/it]c:\\Users\\valek\\AppData\\Local\\Programs\\Python\\Python313\\Lib\\site-packages\\urllib3\\connectionpool.py:1097: InsecureRequestWarning: Unverified HTTPS request is being made to host 'build-oracc.museum.upenn.edu'. Adding certificate verification is strongly advised. See: https://urllib3.readthedocs.io/en/latest/advanced-usage.html#tls-warnings\n",
      "  warnings.warn(\n"
     ]
    },
    {
     "name": "stdout",
     "output_type": "stream",
     "text": [
      "Downloading http://build-oracc.museum.upenn.edu/json/eisl.zip saving as jsonzip/eisl.zip\n",
      "Waiting 3 seconds in order not to overload the ORACC server\n"
     ]
    },
    {
     "name": "stderr",
     "output_type": "stream",
     "text": [
      " 48%|████▊     | 67/139 [05:10<05:34,  4.64s/it]c:\\Users\\valek\\AppData\\Local\\Programs\\Python\\Python313\\Lib\\site-packages\\urllib3\\connectionpool.py:1097: InsecureRequestWarning: Unverified HTTPS request is being made to host 'build-oracc.museum.upenn.edu'. Adding certificate verification is strongly advised. See: https://urllib3.readthedocs.io/en/latest/advanced-usage.html#tls-warnings\n",
      "  warnings.warn(\n",
      " 49%|████▉     | 68/139 [05:11<04:11,  3.54s/it]"
     ]
    },
    {
     "name": "stdout",
     "output_type": "stream",
     "text": [
      "http://build-oracc.museum.upenn.edu/json/epsd2.zip does not exist.\n"
     ]
    },
    {
     "name": "stderr",
     "output_type": "stream",
     "text": [
      "c:\\Users\\valek\\AppData\\Local\\Programs\\Python\\Python313\\Lib\\site-packages\\urllib3\\connectionpool.py:1097: InsecureRequestWarning: Unverified HTTPS request is being made to host 'build-oracc.museum.upenn.edu'. Adding certificate verification is strongly advised. See: https://urllib3.readthedocs.io/en/latest/advanced-usage.html#tls-warnings\n",
      "  warnings.warn(\n"
     ]
    },
    {
     "name": "stdout",
     "output_type": "stream",
     "text": [
      "Downloading http://build-oracc.museum.upenn.edu/json/etcsri.zip saving as jsonzip/etcsri.zip\n",
      "Waiting 3 seconds in order not to overload the ORACC server\n"
     ]
    },
    {
     "name": "stderr",
     "output_type": "stream",
     "text": [
      " 50%|████▉     | 69/139 [05:17<04:45,  4.08s/it]c:\\Users\\valek\\AppData\\Local\\Programs\\Python\\Python313\\Lib\\site-packages\\urllib3\\connectionpool.py:1097: InsecureRequestWarning: Unverified HTTPS request is being made to host 'build-oracc.museum.upenn.edu'. Adding certificate verification is strongly advised. See: https://urllib3.readthedocs.io/en/latest/advanced-usage.html#tls-warnings\n",
      "  warnings.warn(\n"
     ]
    },
    {
     "name": "stdout",
     "output_type": "stream",
     "text": [
      "Downloading http://build-oracc.museum.upenn.edu/json/glass.zip saving as jsonzip/glass.zip\n",
      "Waiting 3 seconds in order not to overload the ORACC server\n"
     ]
    },
    {
     "name": "stderr",
     "output_type": "stream",
     "text": [
      " 50%|█████     | 70/139 [05:21<04:55,  4.29s/it]c:\\Users\\valek\\AppData\\Local\\Programs\\Python\\Python313\\Lib\\site-packages\\urllib3\\connectionpool.py:1097: InsecureRequestWarning: Unverified HTTPS request is being made to host 'build-oracc.museum.upenn.edu'. Adding certificate verification is strongly advised. See: https://urllib3.readthedocs.io/en/latest/advanced-usage.html#tls-warnings\n",
      "  warnings.warn(\n"
     ]
    },
    {
     "name": "stdout",
     "output_type": "stream",
     "text": [
      "Downloading http://build-oracc.museum.upenn.edu/json/hbtin.zip saving as jsonzip/hbtin.zip\n",
      "Waiting 3 seconds in order not to overload the ORACC server\n"
     ]
    },
    {
     "name": "stderr",
     "output_type": "stream",
     "text": [
      " 51%|█████     | 71/139 [05:30<06:18,  5.57s/it]c:\\Users\\valek\\AppData\\Local\\Programs\\Python\\Python313\\Lib\\site-packages\\urllib3\\connectionpool.py:1097: InsecureRequestWarning: Unverified HTTPS request is being made to host 'build-oracc.museum.upenn.edu'. Adding certificate verification is strongly advised. See: https://urllib3.readthedocs.io/en/latest/advanced-usage.html#tls-warnings\n",
      "  warnings.warn(\n"
     ]
    },
    {
     "name": "stdout",
     "output_type": "stream",
     "text": [
      "Downloading http://build-oracc.museum.upenn.edu/json/iraq.zip saving as jsonzip/iraq.zip\n",
      "Waiting 3 seconds in order not to overload the ORACC server\n"
     ]
    },
    {
     "name": "stderr",
     "output_type": "stream",
     "text": [
      " 52%|█████▏    | 72/139 [05:34<05:37,  5.04s/it]c:\\Users\\valek\\AppData\\Local\\Programs\\Python\\Python313\\Lib\\site-packages\\urllib3\\connectionpool.py:1097: InsecureRequestWarning: Unverified HTTPS request is being made to host 'build-oracc.museum.upenn.edu'. Adding certificate verification is strongly advised. See: https://urllib3.readthedocs.io/en/latest/advanced-usage.html#tls-warnings\n",
      "  warnings.warn(\n"
     ]
    },
    {
     "name": "stdout",
     "output_type": "stream",
     "text": [
      "Downloading http://build-oracc.museum.upenn.edu/json/iraq-iraq85.zip saving as jsonzip/iraq-iraq85.zip\n",
      "Waiting 3 seconds in order not to overload the ORACC server\n"
     ]
    },
    {
     "name": "stderr",
     "output_type": "stream",
     "text": [
      " 53%|█████▎    | 73/139 [05:38<05:09,  4.69s/it]c:\\Users\\valek\\AppData\\Local\\Programs\\Python\\Python313\\Lib\\site-packages\\urllib3\\connectionpool.py:1097: InsecureRequestWarning: Unverified HTTPS request is being made to host 'build-oracc.museum.upenn.edu'. Adding certificate verification is strongly advised. See: https://urllib3.readthedocs.io/en/latest/advanced-usage.html#tls-warnings\n",
      "  warnings.warn(\n"
     ]
    },
    {
     "name": "stdout",
     "output_type": "stream",
     "text": [
      "Downloading http://build-oracc.museum.upenn.edu/json/kish.zip saving as jsonzip/kish.zip\n",
      "Waiting 3 seconds in order not to overload the ORACC server\n"
     ]
    },
    {
     "name": "stderr",
     "output_type": "stream",
     "text": [
      " 53%|█████▎    | 74/139 [05:42<05:01,  4.64s/it]c:\\Users\\valek\\AppData\\Local\\Programs\\Python\\Python313\\Lib\\site-packages\\urllib3\\connectionpool.py:1097: InsecureRequestWarning: Unverified HTTPS request is being made to host 'build-oracc.museum.upenn.edu'. Adding certificate verification is strongly advised. See: https://urllib3.readthedocs.io/en/latest/advanced-usage.html#tls-warnings\n",
      "  warnings.warn(\n"
     ]
    },
    {
     "name": "stdout",
     "output_type": "stream",
     "text": [
      "Downloading http://build-oracc.museum.upenn.edu/json/kish-fieldmus.zip saving as jsonzip/kish-fieldmus.zip\n",
      "Waiting 3 seconds in order not to overload the ORACC server\n"
     ]
    },
    {
     "name": "stderr",
     "output_type": "stream",
     "text": [
      " 54%|█████▍    | 75/139 [05:46<04:39,  4.37s/it]c:\\Users\\valek\\AppData\\Local\\Programs\\Python\\Python313\\Lib\\site-packages\\urllib3\\connectionpool.py:1097: InsecureRequestWarning: Unverified HTTPS request is being made to host 'build-oracc.museum.upenn.edu'. Adding certificate verification is strongly advised. See: https://urllib3.readthedocs.io/en/latest/advanced-usage.html#tls-warnings\n",
      "  warnings.warn(\n"
     ]
    },
    {
     "name": "stdout",
     "output_type": "stream",
     "text": [
      "Downloading http://build-oracc.museum.upenn.edu/json/kish-fieldmus-fmod.zip saving as jsonzip/kish-fieldmus-fmod.zip\n",
      "Waiting 3 seconds in order not to overload the ORACC server\n"
     ]
    },
    {
     "name": "stderr",
     "output_type": "stream",
     "text": [
      " 55%|█████▍    | 76/139 [05:50<04:37,  4.40s/it]c:\\Users\\valek\\AppData\\Local\\Programs\\Python\\Python313\\Lib\\site-packages\\urllib3\\connectionpool.py:1097: InsecureRequestWarning: Unverified HTTPS request is being made to host 'build-oracc.museum.upenn.edu'. Adding certificate verification is strongly advised. See: https://urllib3.readthedocs.io/en/latest/advanced-usage.html#tls-warnings\n",
      "  warnings.warn(\n"
     ]
    },
    {
     "name": "stdout",
     "output_type": "stream",
     "text": [
      "Downloading http://build-oracc.museum.upenn.edu/json/kish-mathaffield.zip saving as jsonzip/kish-mathaffield.zip\n",
      "Waiting 3 seconds in order not to overload the ORACC server\n"
     ]
    },
    {
     "name": "stderr",
     "output_type": "stream",
     "text": [
      " 55%|█████▌    | 77/139 [05:54<04:20,  4.20s/it]c:\\Users\\valek\\AppData\\Local\\Programs\\Python\\Python313\\Lib\\site-packages\\urllib3\\connectionpool.py:1097: InsecureRequestWarning: Unverified HTTPS request is being made to host 'build-oracc.museum.upenn.edu'. Adding certificate verification is strongly advised. See: https://urllib3.readthedocs.io/en/latest/advanced-usage.html#tls-warnings\n",
      "  warnings.warn(\n"
     ]
    },
    {
     "name": "stdout",
     "output_type": "stream",
     "text": [
      "Downloading http://build-oracc.museum.upenn.edu/json/nere.zip saving as jsonzip/nere.zip\n",
      "Waiting 3 seconds in order not to overload the ORACC server\n"
     ]
    },
    {
     "name": "stderr",
     "output_type": "stream",
     "text": [
      " 56%|█████▌    | 78/139 [05:58<04:12,  4.14s/it]c:\\Users\\valek\\AppData\\Local\\Programs\\Python\\Python313\\Lib\\site-packages\\urllib3\\connectionpool.py:1097: InsecureRequestWarning: Unverified HTTPS request is being made to host 'build-oracc.museum.upenn.edu'. Adding certificate verification is strongly advised. See: https://urllib3.readthedocs.io/en/latest/advanced-usage.html#tls-warnings\n",
      "  warnings.warn(\n"
     ]
    },
    {
     "name": "stdout",
     "output_type": "stream",
     "text": [
      "Downloading http://build-oracc.museum.upenn.edu/json/nimrud.zip saving as jsonzip/nimrud.zip\n",
      "Waiting 3 seconds in order not to overload the ORACC server\n"
     ]
    },
    {
     "name": "stderr",
     "output_type": "stream",
     "text": [
      " 57%|█████▋    | 79/139 [06:02<04:05,  4.09s/it]c:\\Users\\valek\\AppData\\Local\\Programs\\Python\\Python313\\Lib\\site-packages\\urllib3\\connectionpool.py:1097: InsecureRequestWarning: Unverified HTTPS request is being made to host 'build-oracc.museum.upenn.edu'. Adding certificate verification is strongly advised. See: https://urllib3.readthedocs.io/en/latest/advanced-usage.html#tls-warnings\n",
      "  warnings.warn(\n"
     ]
    },
    {
     "name": "stdout",
     "output_type": "stream",
     "text": [
      "Downloading http://build-oracc.museum.upenn.edu/json/obel.zip saving as jsonzip/obel.zip\n",
      "Waiting 3 seconds in order not to overload the ORACC server\n"
     ]
    },
    {
     "name": "stderr",
     "output_type": "stream",
     "text": [
      " 58%|█████▊    | 80/139 [06:07<04:19,  4.41s/it]c:\\Users\\valek\\AppData\\Local\\Programs\\Python\\Python313\\Lib\\site-packages\\urllib3\\connectionpool.py:1097: InsecureRequestWarning: Unverified HTTPS request is being made to host 'build-oracc.museum.upenn.edu'. Adding certificate verification is strongly advised. See: https://urllib3.readthedocs.io/en/latest/advanced-usage.html#tls-warnings\n",
      "  warnings.warn(\n"
     ]
    },
    {
     "name": "stdout",
     "output_type": "stream",
     "text": [
      "Downloading http://build-oracc.museum.upenn.edu/json/obmc.zip saving as jsonzip/obmc.zip\n",
      "Waiting 3 seconds in order not to overload the ORACC server\n"
     ]
    },
    {
     "name": "stderr",
     "output_type": "stream",
     "text": [
      " 58%|█████▊    | 81/139 [06:12<04:14,  4.38s/it]c:\\Users\\valek\\AppData\\Local\\Programs\\Python\\Python313\\Lib\\site-packages\\urllib3\\connectionpool.py:1097: InsecureRequestWarning: Unverified HTTPS request is being made to host 'build-oracc.museum.upenn.edu'. Adding certificate verification is strongly advised. See: https://urllib3.readthedocs.io/en/latest/advanced-usage.html#tls-warnings\n",
      "  warnings.warn(\n"
     ]
    },
    {
     "name": "stdout",
     "output_type": "stream",
     "text": [
      "Downloading http://build-oracc.museum.upenn.edu/json/obta.zip saving as jsonzip/obta.zip\n",
      "Waiting 3 seconds in order not to overload the ORACC server\n"
     ]
    },
    {
     "name": "stderr",
     "output_type": "stream",
     "text": [
      " 59%|█████▉    | 82/139 [06:16<04:05,  4.31s/it]c:\\Users\\valek\\AppData\\Local\\Programs\\Python\\Python313\\Lib\\site-packages\\urllib3\\connectionpool.py:1097: InsecureRequestWarning: Unverified HTTPS request is being made to host 'build-oracc.museum.upenn.edu'. Adding certificate verification is strongly advised. See: https://urllib3.readthedocs.io/en/latest/advanced-usage.html#tls-warnings\n",
      "  warnings.warn(\n"
     ]
    },
    {
     "name": "stdout",
     "output_type": "stream",
     "text": [
      "Downloading http://build-oracc.museum.upenn.edu/json/ogsl.zip saving as jsonzip/ogsl.zip\n",
      "Waiting 3 seconds in order not to overload the ORACC server\n"
     ]
    },
    {
     "name": "stderr",
     "output_type": "stream",
     "text": [
      " 60%|█████▉    | 83/139 [06:20<03:57,  4.24s/it]c:\\Users\\valek\\AppData\\Local\\Programs\\Python\\Python313\\Lib\\site-packages\\urllib3\\connectionpool.py:1097: InsecureRequestWarning: Unverified HTTPS request is being made to host 'build-oracc.museum.upenn.edu'. Adding certificate verification is strongly advised. See: https://urllib3.readthedocs.io/en/latest/advanced-usage.html#tls-warnings\n",
      "  warnings.warn(\n"
     ]
    },
    {
     "name": "stdout",
     "output_type": "stream",
     "text": [
      "Downloading http://build-oracc.museum.upenn.edu/json/oimea.zip saving as jsonzip/oimea.zip\n",
      "Waiting 3 seconds in order not to overload the ORACC server\n"
     ]
    },
    {
     "name": "stderr",
     "output_type": "stream",
     "text": [
      " 60%|██████    | 84/139 [06:26<04:26,  4.85s/it]c:\\Users\\valek\\AppData\\Local\\Programs\\Python\\Python313\\Lib\\site-packages\\urllib3\\connectionpool.py:1097: InsecureRequestWarning: Unverified HTTPS request is being made to host 'build-oracc.museum.upenn.edu'. Adding certificate verification is strongly advised. See: https://urllib3.readthedocs.io/en/latest/advanced-usage.html#tls-warnings\n",
      "  warnings.warn(\n"
     ]
    },
    {
     "name": "stdout",
     "output_type": "stream",
     "text": [
      "Downloading http://build-oracc.museum.upenn.edu/json/osl.zip saving as jsonzip/osl.zip\n",
      "Waiting 3 seconds in order not to overload the ORACC server\n"
     ]
    },
    {
     "name": "stderr",
     "output_type": "stream",
     "text": [
      " 61%|██████    | 85/139 [06:30<04:02,  4.49s/it]c:\\Users\\valek\\AppData\\Local\\Programs\\Python\\Python313\\Lib\\site-packages\\urllib3\\connectionpool.py:1097: InsecureRequestWarning: Unverified HTTPS request is being made to host 'build-oracc.museum.upenn.edu'. Adding certificate verification is strongly advised. See: https://urllib3.readthedocs.io/en/latest/advanced-usage.html#tls-warnings\n",
      "  warnings.warn(\n"
     ]
    },
    {
     "name": "stdout",
     "output_type": "stream",
     "text": [
      "Downloading http://build-oracc.museum.upenn.edu/json/pnao.zip saving as jsonzip/pnao.zip\n",
      "Waiting 3 seconds in order not to overload the ORACC server\n"
     ]
    },
    {
     "name": "stderr",
     "output_type": "stream",
     "text": [
      " 62%|██████▏   | 86/139 [06:34<03:48,  4.31s/it]c:\\Users\\valek\\AppData\\Local\\Programs\\Python\\Python313\\Lib\\site-packages\\urllib3\\connectionpool.py:1097: InsecureRequestWarning: Unverified HTTPS request is being made to host 'build-oracc.museum.upenn.edu'. Adding certificate verification is strongly advised. See: https://urllib3.readthedocs.io/en/latest/advanced-usage.html#tls-warnings\n",
      "  warnings.warn(\n"
     ]
    },
    {
     "name": "stdout",
     "output_type": "stream",
     "text": [
      "Downloading http://build-oracc.museum.upenn.edu/json/qcat.zip saving as jsonzip/qcat.zip\n",
      "Waiting 3 seconds in order not to overload the ORACC server\n"
     ]
    },
    {
     "name": "stderr",
     "output_type": "stream",
     "text": [
      " 63%|██████▎   | 87/139 [06:38<03:42,  4.28s/it]c:\\Users\\valek\\AppData\\Local\\Programs\\Python\\Python313\\Lib\\site-packages\\urllib3\\connectionpool.py:1097: InsecureRequestWarning: Unverified HTTPS request is being made to host 'build-oracc.museum.upenn.edu'. Adding certificate verification is strongly advised. See: https://urllib3.readthedocs.io/en/latest/advanced-usage.html#tls-warnings\n",
      "  warnings.warn(\n"
     ]
    },
    {
     "name": "stdout",
     "output_type": "stream",
     "text": [
      "Downloading http://build-oracc.museum.upenn.edu/json/riao.zip saving as jsonzip/riao.zip\n",
      "Waiting 3 seconds in order not to overload the ORACC server\n"
     ]
    },
    {
     "name": "stderr",
     "output_type": "stream",
     "text": [
      " 63%|██████▎   | 88/139 [06:43<03:47,  4.45s/it]c:\\Users\\valek\\AppData\\Local\\Programs\\Python\\Python313\\Lib\\site-packages\\urllib3\\connectionpool.py:1097: InsecureRequestWarning: Unverified HTTPS request is being made to host 'build-oracc.museum.upenn.edu'. Adding certificate verification is strongly advised. See: https://urllib3.readthedocs.io/en/latest/advanced-usage.html#tls-warnings\n",
      "  warnings.warn(\n"
     ]
    },
    {
     "name": "stdout",
     "output_type": "stream",
     "text": [
      "Downloading http://build-oracc.museum.upenn.edu/json/ribo.zip saving as jsonzip/ribo.zip\n",
      "Waiting 3 seconds in order not to overload the ORACC server\n"
     ]
    },
    {
     "name": "stderr",
     "output_type": "stream",
     "text": [
      " 64%|██████▍   | 89/139 [06:47<03:43,  4.46s/it]c:\\Users\\valek\\AppData\\Local\\Programs\\Python\\Python313\\Lib\\site-packages\\urllib3\\connectionpool.py:1097: InsecureRequestWarning: Unverified HTTPS request is being made to host 'build-oracc.museum.upenn.edu'. Adding certificate verification is strongly advised. See: https://urllib3.readthedocs.io/en/latest/advanced-usage.html#tls-warnings\n",
      "  warnings.warn(\n"
     ]
    },
    {
     "name": "stdout",
     "output_type": "stream",
     "text": [
      "Downloading http://build-oracc.museum.upenn.edu/json/ribo-bab7scores.zip saving as jsonzip/ribo-bab7scores.zip\n",
      "Waiting 3 seconds in order not to overload the ORACC server\n"
     ]
    },
    {
     "name": "stderr",
     "output_type": "stream",
     "text": [
      " 65%|██████▍   | 90/139 [06:51<03:36,  4.41s/it]c:\\Users\\valek\\AppData\\Local\\Programs\\Python\\Python313\\Lib\\site-packages\\urllib3\\connectionpool.py:1097: InsecureRequestWarning: Unverified HTTPS request is being made to host 'build-oracc.museum.upenn.edu'. Adding certificate verification is strongly advised. See: https://urllib3.readthedocs.io/en/latest/advanced-usage.html#tls-warnings\n",
      "  warnings.warn(\n"
     ]
    },
    {
     "name": "stdout",
     "output_type": "stream",
     "text": [
      "Downloading http://build-oracc.museum.upenn.edu/json/ribo-babylon10.zip saving as jsonzip/ribo-babylon10.zip\n",
      "Waiting 3 seconds in order not to overload the ORACC server\n"
     ]
    },
    {
     "name": "stderr",
     "output_type": "stream",
     "text": [
      " 65%|██████▌   | 91/139 [06:55<03:23,  4.24s/it]c:\\Users\\valek\\AppData\\Local\\Programs\\Python\\Python313\\Lib\\site-packages\\urllib3\\connectionpool.py:1097: InsecureRequestWarning: Unverified HTTPS request is being made to host 'build-oracc.museum.upenn.edu'. Adding certificate verification is strongly advised. See: https://urllib3.readthedocs.io/en/latest/advanced-usage.html#tls-warnings\n",
      "  warnings.warn(\n"
     ]
    },
    {
     "name": "stdout",
     "output_type": "stream",
     "text": [
      "Downloading http://build-oracc.museum.upenn.edu/json/ribo-babylon2.zip saving as jsonzip/ribo-babylon2.zip\n",
      "Waiting 3 seconds in order not to overload the ORACC server\n"
     ]
    },
    {
     "name": "stderr",
     "output_type": "stream",
     "text": [
      " 66%|██████▌   | 92/139 [06:59<03:17,  4.20s/it]c:\\Users\\valek\\AppData\\Local\\Programs\\Python\\Python313\\Lib\\site-packages\\urllib3\\connectionpool.py:1097: InsecureRequestWarning: Unverified HTTPS request is being made to host 'build-oracc.museum.upenn.edu'. Adding certificate verification is strongly advised. See: https://urllib3.readthedocs.io/en/latest/advanced-usage.html#tls-warnings\n",
      "  warnings.warn(\n"
     ]
    },
    {
     "name": "stdout",
     "output_type": "stream",
     "text": [
      "Downloading http://build-oracc.museum.upenn.edu/json/ribo-babylon3.zip saving as jsonzip/ribo-babylon3.zip\n",
      "Waiting 3 seconds in order not to overload the ORACC server\n"
     ]
    },
    {
     "name": "stderr",
     "output_type": "stream",
     "text": [
      " 67%|██████▋   | 93/139 [07:03<03:08,  4.10s/it]c:\\Users\\valek\\AppData\\Local\\Programs\\Python\\Python313\\Lib\\site-packages\\urllib3\\connectionpool.py:1097: InsecureRequestWarning: Unverified HTTPS request is being made to host 'build-oracc.museum.upenn.edu'. Adding certificate verification is strongly advised. See: https://urllib3.readthedocs.io/en/latest/advanced-usage.html#tls-warnings\n",
      "  warnings.warn(\n"
     ]
    },
    {
     "name": "stdout",
     "output_type": "stream",
     "text": [
      "Downloading http://build-oracc.museum.upenn.edu/json/ribo-babylon4.zip saving as jsonzip/ribo-babylon4.zip\n",
      "Waiting 3 seconds in order not to overload the ORACC server\n"
     ]
    },
    {
     "name": "stderr",
     "output_type": "stream",
     "text": [
      " 68%|██████▊   | 94/139 [07:07<02:59,  3.99s/it]c:\\Users\\valek\\AppData\\Local\\Programs\\Python\\Python313\\Lib\\site-packages\\urllib3\\connectionpool.py:1097: InsecureRequestWarning: Unverified HTTPS request is being made to host 'build-oracc.museum.upenn.edu'. Adding certificate verification is strongly advised. See: https://urllib3.readthedocs.io/en/latest/advanced-usage.html#tls-warnings\n",
      "  warnings.warn(\n"
     ]
    },
    {
     "name": "stdout",
     "output_type": "stream",
     "text": [
      "Downloading http://build-oracc.museum.upenn.edu/json/ribo-babylon5.zip saving as jsonzip/ribo-babylon5.zip\n",
      "Waiting 3 seconds in order not to overload the ORACC server\n"
     ]
    },
    {
     "name": "stderr",
     "output_type": "stream",
     "text": [
      " 68%|██████▊   | 95/139 [07:11<02:50,  3.89s/it]c:\\Users\\valek\\AppData\\Local\\Programs\\Python\\Python313\\Lib\\site-packages\\urllib3\\connectionpool.py:1097: InsecureRequestWarning: Unverified HTTPS request is being made to host 'build-oracc.museum.upenn.edu'. Adding certificate verification is strongly advised. See: https://urllib3.readthedocs.io/en/latest/advanced-usage.html#tls-warnings\n",
      "  warnings.warn(\n"
     ]
    },
    {
     "name": "stdout",
     "output_type": "stream",
     "text": [
      "Downloading http://build-oracc.museum.upenn.edu/json/ribo-babylon6.zip saving as jsonzip/ribo-babylon6.zip\n",
      "Waiting 3 seconds in order not to overload the ORACC server\n"
     ]
    },
    {
     "name": "stderr",
     "output_type": "stream",
     "text": [
      " 69%|██████▉   | 96/139 [07:15<02:52,  4.02s/it]c:\\Users\\valek\\AppData\\Local\\Programs\\Python\\Python313\\Lib\\site-packages\\urllib3\\connectionpool.py:1097: InsecureRequestWarning: Unverified HTTPS request is being made to host 'build-oracc.museum.upenn.edu'. Adding certificate verification is strongly advised. See: https://urllib3.readthedocs.io/en/latest/advanced-usage.html#tls-warnings\n",
      "  warnings.warn(\n"
     ]
    },
    {
     "name": "stdout",
     "output_type": "stream",
     "text": [
      "Downloading http://build-oracc.museum.upenn.edu/json/ribo-babylon7.zip saving as jsonzip/ribo-babylon7.zip\n",
      "Waiting 3 seconds in order not to overload the ORACC server\n"
     ]
    },
    {
     "name": "stderr",
     "output_type": "stream",
     "text": [
      " 70%|██████▉   | 97/139 [07:20<02:56,  4.20s/it]c:\\Users\\valek\\AppData\\Local\\Programs\\Python\\Python313\\Lib\\site-packages\\urllib3\\connectionpool.py:1097: InsecureRequestWarning: Unverified HTTPS request is being made to host 'build-oracc.museum.upenn.edu'. Adding certificate verification is strongly advised. See: https://urllib3.readthedocs.io/en/latest/advanced-usage.html#tls-warnings\n",
      "  warnings.warn(\n"
     ]
    },
    {
     "name": "stdout",
     "output_type": "stream",
     "text": [
      "Downloading http://build-oracc.museum.upenn.edu/json/ribo-babylon8.zip saving as jsonzip/ribo-babylon8.zip\n",
      "Waiting 3 seconds in order not to overload the ORACC server\n"
     ]
    },
    {
     "name": "stderr",
     "output_type": "stream",
     "text": [
      " 71%|███████   | 98/139 [07:24<02:49,  4.12s/it]c:\\Users\\valek\\AppData\\Local\\Programs\\Python\\Python313\\Lib\\site-packages\\urllib3\\connectionpool.py:1097: InsecureRequestWarning: Unverified HTTPS request is being made to host 'build-oracc.museum.upenn.edu'. Adding certificate verification is strongly advised. See: https://urllib3.readthedocs.io/en/latest/advanced-usage.html#tls-warnings\n",
      "  warnings.warn(\n"
     ]
    },
    {
     "name": "stdout",
     "output_type": "stream",
     "text": [
      "Downloading http://build-oracc.museum.upenn.edu/json/ribo-sources.zip saving as jsonzip/ribo-sources.zip\n",
      "Waiting 3 seconds in order not to overload the ORACC server\n"
     ]
    },
    {
     "name": "stderr",
     "output_type": "stream",
     "text": [
      " 71%|███████   | 99/139 [07:28<02:48,  4.20s/it]c:\\Users\\valek\\AppData\\Local\\Programs\\Python\\Python313\\Lib\\site-packages\\urllib3\\connectionpool.py:1097: InsecureRequestWarning: Unverified HTTPS request is being made to host 'build-oracc.museum.upenn.edu'. Adding certificate verification is strongly advised. See: https://urllib3.readthedocs.io/en/latest/advanced-usage.html#tls-warnings\n",
      "  warnings.warn(\n"
     ]
    },
    {
     "name": "stdout",
     "output_type": "stream",
     "text": [
      "Downloading http://build-oracc.museum.upenn.edu/json/rimanum.zip saving as jsonzip/rimanum.zip\n",
      "Waiting 3 seconds in order not to overload the ORACC server\n"
     ]
    },
    {
     "name": "stderr",
     "output_type": "stream",
     "text": [
      " 72%|███████▏  | 100/139 [07:32<02:44,  4.22s/it]c:\\Users\\valek\\AppData\\Local\\Programs\\Python\\Python313\\Lib\\site-packages\\urllib3\\connectionpool.py:1097: InsecureRequestWarning: Unverified HTTPS request is being made to host 'build-oracc.museum.upenn.edu'. Adding certificate verification is strongly advised. See: https://urllib3.readthedocs.io/en/latest/advanced-usage.html#tls-warnings\n",
      "  warnings.warn(\n"
     ]
    },
    {
     "name": "stdout",
     "output_type": "stream",
     "text": [
      "Downloading http://build-oracc.museum.upenn.edu/json/rinap.zip saving as jsonzip/rinap.zip\n",
      "Waiting 3 seconds in order not to overload the ORACC server\n"
     ]
    },
    {
     "name": "stderr",
     "output_type": "stream",
     "text": [
      " 73%|███████▎  | 101/139 [07:37<02:51,  4.50s/it]c:\\Users\\valek\\AppData\\Local\\Programs\\Python\\Python313\\Lib\\site-packages\\urllib3\\connectionpool.py:1097: InsecureRequestWarning: Unverified HTTPS request is being made to host 'build-oracc.museum.upenn.edu'. Adding certificate verification is strongly advised. See: https://urllib3.readthedocs.io/en/latest/advanced-usage.html#tls-warnings\n",
      "  warnings.warn(\n"
     ]
    },
    {
     "name": "stdout",
     "output_type": "stream",
     "text": [
      "Downloading http://build-oracc.museum.upenn.edu/json/rinap-rinap1.zip saving as jsonzip/rinap-rinap1.zip\n",
      "Waiting 3 seconds in order not to overload the ORACC server\n"
     ]
    },
    {
     "name": "stderr",
     "output_type": "stream",
     "text": [
      " 73%|███████▎  | 102/139 [07:42<02:45,  4.46s/it]c:\\Users\\valek\\AppData\\Local\\Programs\\Python\\Python313\\Lib\\site-packages\\urllib3\\connectionpool.py:1097: InsecureRequestWarning: Unverified HTTPS request is being made to host 'build-oracc.museum.upenn.edu'. Adding certificate verification is strongly advised. See: https://urllib3.readthedocs.io/en/latest/advanced-usage.html#tls-warnings\n",
      "  warnings.warn(\n"
     ]
    },
    {
     "name": "stdout",
     "output_type": "stream",
     "text": [
      "Downloading http://build-oracc.museum.upenn.edu/json/rinap-rinap2.zip saving as jsonzip/rinap-rinap2.zip\n",
      "Waiting 3 seconds in order not to overload the ORACC server\n"
     ]
    },
    {
     "name": "stderr",
     "output_type": "stream",
     "text": [
      " 74%|███████▍  | 103/139 [07:46<02:42,  4.50s/it]c:\\Users\\valek\\AppData\\Local\\Programs\\Python\\Python313\\Lib\\site-packages\\urllib3\\connectionpool.py:1097: InsecureRequestWarning: Unverified HTTPS request is being made to host 'build-oracc.museum.upenn.edu'. Adding certificate verification is strongly advised. See: https://urllib3.readthedocs.io/en/latest/advanced-usage.html#tls-warnings\n",
      "  warnings.warn(\n"
     ]
    },
    {
     "name": "stdout",
     "output_type": "stream",
     "text": [
      "Downloading http://build-oracc.museum.upenn.edu/json/rinap-rinap3.zip saving as jsonzip/rinap-rinap3.zip\n",
      "Waiting 3 seconds in order not to overload the ORACC server\n"
     ]
    },
    {
     "name": "stderr",
     "output_type": "stream",
     "text": [
      " 75%|███████▍  | 104/139 [07:51<02:39,  4.55s/it]c:\\Users\\valek\\AppData\\Local\\Programs\\Python\\Python313\\Lib\\site-packages\\urllib3\\connectionpool.py:1097: InsecureRequestWarning: Unverified HTTPS request is being made to host 'build-oracc.museum.upenn.edu'. Adding certificate verification is strongly advised. See: https://urllib3.readthedocs.io/en/latest/advanced-usage.html#tls-warnings\n",
      "  warnings.warn(\n"
     ]
    },
    {
     "name": "stdout",
     "output_type": "stream",
     "text": [
      "Downloading http://build-oracc.museum.upenn.edu/json/rinap-rinap4.zip saving as jsonzip/rinap-rinap4.zip\n",
      "Waiting 3 seconds in order not to overload the ORACC server\n"
     ]
    },
    {
     "name": "stderr",
     "output_type": "stream",
     "text": [
      " 76%|███████▌  | 105/139 [07:56<02:35,  4.56s/it]c:\\Users\\valek\\AppData\\Local\\Programs\\Python\\Python313\\Lib\\site-packages\\urllib3\\connectionpool.py:1097: InsecureRequestWarning: Unverified HTTPS request is being made to host 'build-oracc.museum.upenn.edu'. Adding certificate verification is strongly advised. See: https://urllib3.readthedocs.io/en/latest/advanced-usage.html#tls-warnings\n",
      "  warnings.warn(\n"
     ]
    },
    {
     "name": "stdout",
     "output_type": "stream",
     "text": [
      "Downloading http://build-oracc.museum.upenn.edu/json/rinap-rinap5.zip saving as jsonzip/rinap-rinap5.zip\n",
      "Waiting 3 seconds in order not to overload the ORACC server\n"
     ]
    },
    {
     "name": "stderr",
     "output_type": "stream",
     "text": [
      " 76%|███████▋  | 106/139 [08:01<02:35,  4.70s/it]c:\\Users\\valek\\AppData\\Local\\Programs\\Python\\Python313\\Lib\\site-packages\\urllib3\\connectionpool.py:1097: InsecureRequestWarning: Unverified HTTPS request is being made to host 'build-oracc.museum.upenn.edu'. Adding certificate verification is strongly advised. See: https://urllib3.readthedocs.io/en/latest/advanced-usage.html#tls-warnings\n",
      "  warnings.warn(\n",
      " 77%|███████▋  | 107/139 [08:01<01:51,  3.49s/it]"
     ]
    },
    {
     "name": "stdout",
     "output_type": "stream",
     "text": [
      "http://build-oracc.museum.upenn.edu/json/rinap-rinap5p1.zip does not exist.\n"
     ]
    },
    {
     "name": "stderr",
     "output_type": "stream",
     "text": [
      "c:\\Users\\valek\\AppData\\Local\\Programs\\Python\\Python313\\Lib\\site-packages\\urllib3\\connectionpool.py:1097: InsecureRequestWarning: Unverified HTTPS request is being made to host 'build-oracc.museum.upenn.edu'. Adding certificate verification is strongly advised. See: https://urllib3.readthedocs.io/en/latest/advanced-usage.html#tls-warnings\n",
      "  warnings.warn(\n"
     ]
    },
    {
     "name": "stdout",
     "output_type": "stream",
     "text": [
      "Downloading http://build-oracc.museum.upenn.edu/json/rinap-scores.zip saving as jsonzip/rinap-scores.zip\n",
      "Waiting 3 seconds in order not to overload the ORACC server\n"
     ]
    },
    {
     "name": "stderr",
     "output_type": "stream",
     "text": [
      " 78%|███████▊  | 108/139 [08:06<02:00,  3.88s/it]c:\\Users\\valek\\AppData\\Local\\Programs\\Python\\Python313\\Lib\\site-packages\\urllib3\\connectionpool.py:1097: InsecureRequestWarning: Unverified HTTPS request is being made to host 'build-oracc.museum.upenn.edu'. Adding certificate verification is strongly advised. See: https://urllib3.readthedocs.io/en/latest/advanced-usage.html#tls-warnings\n",
      "  warnings.warn(\n"
     ]
    },
    {
     "name": "stdout",
     "output_type": "stream",
     "text": [
      "Downloading http://build-oracc.museum.upenn.edu/json/rinap-sources.zip saving as jsonzip/rinap-sources.zip\n",
      "Waiting 3 seconds in order not to overload the ORACC server\n"
     ]
    },
    {
     "name": "stderr",
     "output_type": "stream",
     "text": [
      " 78%|███████▊  | 109/139 [08:15<02:38,  5.29s/it]c:\\Users\\valek\\AppData\\Local\\Programs\\Python\\Python313\\Lib\\site-packages\\urllib3\\connectionpool.py:1097: InsecureRequestWarning: Unverified HTTPS request is being made to host 'build-oracc.museum.upenn.edu'. Adding certificate verification is strongly advised. See: https://urllib3.readthedocs.io/en/latest/advanced-usage.html#tls-warnings\n",
      "  warnings.warn(\n"
     ]
    },
    {
     "name": "stdout",
     "output_type": "stream",
     "text": [
      "Downloading http://build-oracc.museum.upenn.edu/json/saao.zip saving as jsonzip/saao.zip\n",
      "Waiting 3 seconds in order not to overload the ORACC server\n"
     ]
    },
    {
     "name": "stderr",
     "output_type": "stream",
     "text": [
      " 79%|███████▉  | 110/139 [08:22<02:47,  5.78s/it]c:\\Users\\valek\\AppData\\Local\\Programs\\Python\\Python313\\Lib\\site-packages\\urllib3\\connectionpool.py:1097: InsecureRequestWarning: Unverified HTTPS request is being made to host 'build-oracc.museum.upenn.edu'. Adding certificate verification is strongly advised. See: https://urllib3.readthedocs.io/en/latest/advanced-usage.html#tls-warnings\n",
      "  warnings.warn(\n"
     ]
    },
    {
     "name": "stdout",
     "output_type": "stream",
     "text": [
      "Downloading http://build-oracc.museum.upenn.edu/json/saao-aebp.zip saving as jsonzip/saao-aebp.zip\n",
      "Waiting 3 seconds in order not to overload the ORACC server\n"
     ]
    },
    {
     "name": "stderr",
     "output_type": "stream",
     "text": [
      " 80%|███████▉  | 111/139 [08:33<03:25,  7.32s/it]c:\\Users\\valek\\AppData\\Local\\Programs\\Python\\Python313\\Lib\\site-packages\\urllib3\\connectionpool.py:1097: InsecureRequestWarning: Unverified HTTPS request is being made to host 'build-oracc.museum.upenn.edu'. Adding certificate verification is strongly advised. See: https://urllib3.readthedocs.io/en/latest/advanced-usage.html#tls-warnings\n",
      "  warnings.warn(\n"
     ]
    },
    {
     "name": "stdout",
     "output_type": "stream",
     "text": [
      "Downloading http://build-oracc.museum.upenn.edu/json/saao-knpp.zip saving as jsonzip/saao-knpp.zip\n",
      "Waiting 3 seconds in order not to overload the ORACC server\n"
     ]
    },
    {
     "name": "stderr",
     "output_type": "stream",
     "text": [
      " 81%|████████  | 112/139 [08:37<02:58,  6.62s/it]c:\\Users\\valek\\AppData\\Local\\Programs\\Python\\Python313\\Lib\\site-packages\\urllib3\\connectionpool.py:1097: InsecureRequestWarning: Unverified HTTPS request is being made to host 'build-oracc.museum.upenn.edu'. Adding certificate verification is strongly advised. See: https://urllib3.readthedocs.io/en/latest/advanced-usage.html#tls-warnings\n",
      "  warnings.warn(\n"
     ]
    },
    {
     "name": "stdout",
     "output_type": "stream",
     "text": [
      "Downloading http://build-oracc.museum.upenn.edu/json/saao-saa01.zip saving as jsonzip/saao-saa01.zip\n",
      "Waiting 3 seconds in order not to overload the ORACC server\n"
     ]
    },
    {
     "name": "stderr",
     "output_type": "stream",
     "text": [
      " 81%|████████▏ | 113/139 [08:42<02:35,  5.97s/it]c:\\Users\\valek\\AppData\\Local\\Programs\\Python\\Python313\\Lib\\site-packages\\urllib3\\connectionpool.py:1097: InsecureRequestWarning: Unverified HTTPS request is being made to host 'build-oracc.museum.upenn.edu'. Adding certificate verification is strongly advised. See: https://urllib3.readthedocs.io/en/latest/advanced-usage.html#tls-warnings\n",
      "  warnings.warn(\n"
     ]
    },
    {
     "name": "stdout",
     "output_type": "stream",
     "text": [
      "Downloading http://build-oracc.museum.upenn.edu/json/saao-saa02.zip saving as jsonzip/saao-saa02.zip\n",
      "Waiting 3 seconds in order not to overload the ORACC server\n"
     ]
    },
    {
     "name": "stderr",
     "output_type": "stream",
     "text": [
      " 82%|████████▏ | 114/139 [08:46<02:17,  5.52s/it]c:\\Users\\valek\\AppData\\Local\\Programs\\Python\\Python313\\Lib\\site-packages\\urllib3\\connectionpool.py:1097: InsecureRequestWarning: Unverified HTTPS request is being made to host 'build-oracc.museum.upenn.edu'. Adding certificate verification is strongly advised. See: https://urllib3.readthedocs.io/en/latest/advanced-usage.html#tls-warnings\n",
      "  warnings.warn(\n"
     ]
    },
    {
     "name": "stdout",
     "output_type": "stream",
     "text": [
      "Downloading http://build-oracc.museum.upenn.edu/json/saao-saa03.zip saving as jsonzip/saao-saa03.zip\n",
      "Waiting 3 seconds in order not to overload the ORACC server\n"
     ]
    },
    {
     "name": "stderr",
     "output_type": "stream",
     "text": [
      " 83%|████████▎ | 115/139 [08:51<02:04,  5.20s/it]c:\\Users\\valek\\AppData\\Local\\Programs\\Python\\Python313\\Lib\\site-packages\\urllib3\\connectionpool.py:1097: InsecureRequestWarning: Unverified HTTPS request is being made to host 'build-oracc.museum.upenn.edu'. Adding certificate verification is strongly advised. See: https://urllib3.readthedocs.io/en/latest/advanced-usage.html#tls-warnings\n",
      "  warnings.warn(\n"
     ]
    },
    {
     "name": "stdout",
     "output_type": "stream",
     "text": [
      "Downloading http://build-oracc.museum.upenn.edu/json/saao-saa04.zip saving as jsonzip/saao-saa04.zip\n",
      "Waiting 3 seconds in order not to overload the ORACC server\n"
     ]
    },
    {
     "name": "stderr",
     "output_type": "stream",
     "text": [
      " 83%|████████▎ | 116/139 [08:55<01:55,  5.00s/it]c:\\Users\\valek\\AppData\\Local\\Programs\\Python\\Python313\\Lib\\site-packages\\urllib3\\connectionpool.py:1097: InsecureRequestWarning: Unverified HTTPS request is being made to host 'build-oracc.museum.upenn.edu'. Adding certificate verification is strongly advised. See: https://urllib3.readthedocs.io/en/latest/advanced-usage.html#tls-warnings\n",
      "  warnings.warn(\n"
     ]
    },
    {
     "name": "stdout",
     "output_type": "stream",
     "text": [
      "Downloading http://build-oracc.museum.upenn.edu/json/saao-saa05.zip saving as jsonzip/saao-saa05.zip\n",
      "Waiting 3 seconds in order not to overload the ORACC server\n"
     ]
    },
    {
     "name": "stderr",
     "output_type": "stream",
     "text": [
      " 84%|████████▍ | 117/139 [09:00<01:48,  4.95s/it]c:\\Users\\valek\\AppData\\Local\\Programs\\Python\\Python313\\Lib\\site-packages\\urllib3\\connectionpool.py:1097: InsecureRequestWarning: Unverified HTTPS request is being made to host 'build-oracc.museum.upenn.edu'. Adding certificate verification is strongly advised. See: https://urllib3.readthedocs.io/en/latest/advanced-usage.html#tls-warnings\n",
      "  warnings.warn(\n"
     ]
    },
    {
     "name": "stdout",
     "output_type": "stream",
     "text": [
      "Downloading http://build-oracc.museum.upenn.edu/json/saao-saa06.zip saving as jsonzip/saao-saa06.zip\n",
      "Waiting 3 seconds in order not to overload the ORACC server\n"
     ]
    },
    {
     "name": "stderr",
     "output_type": "stream",
     "text": [
      " 85%|████████▍ | 118/139 [09:05<01:41,  4.83s/it]c:\\Users\\valek\\AppData\\Local\\Programs\\Python\\Python313\\Lib\\site-packages\\urllib3\\connectionpool.py:1097: InsecureRequestWarning: Unverified HTTPS request is being made to host 'build-oracc.museum.upenn.edu'. Adding certificate verification is strongly advised. See: https://urllib3.readthedocs.io/en/latest/advanced-usage.html#tls-warnings\n",
      "  warnings.warn(\n"
     ]
    },
    {
     "name": "stdout",
     "output_type": "stream",
     "text": [
      "Downloading http://build-oracc.museum.upenn.edu/json/saao-saa07.zip saving as jsonzip/saao-saa07.zip\n",
      "Waiting 3 seconds in order not to overload the ORACC server\n"
     ]
    },
    {
     "name": "stderr",
     "output_type": "stream",
     "text": [
      " 86%|████████▌ | 119/139 [09:09<01:34,  4.70s/it]c:\\Users\\valek\\AppData\\Local\\Programs\\Python\\Python313\\Lib\\site-packages\\urllib3\\connectionpool.py:1097: InsecureRequestWarning: Unverified HTTPS request is being made to host 'build-oracc.museum.upenn.edu'. Adding certificate verification is strongly advised. See: https://urllib3.readthedocs.io/en/latest/advanced-usage.html#tls-warnings\n",
      "  warnings.warn(\n"
     ]
    },
    {
     "name": "stdout",
     "output_type": "stream",
     "text": [
      "Downloading http://build-oracc.museum.upenn.edu/json/saao-saa08.zip saving as jsonzip/saao-saa08.zip\n",
      "Waiting 3 seconds in order not to overload the ORACC server\n"
     ]
    },
    {
     "name": "stderr",
     "output_type": "stream",
     "text": [
      " 86%|████████▋ | 120/139 [09:14<01:28,  4.66s/it]c:\\Users\\valek\\AppData\\Local\\Programs\\Python\\Python313\\Lib\\site-packages\\urllib3\\connectionpool.py:1097: InsecureRequestWarning: Unverified HTTPS request is being made to host 'build-oracc.museum.upenn.edu'. Adding certificate verification is strongly advised. See: https://urllib3.readthedocs.io/en/latest/advanced-usage.html#tls-warnings\n",
      "  warnings.warn(\n"
     ]
    },
    {
     "name": "stdout",
     "output_type": "stream",
     "text": [
      "Downloading http://build-oracc.museum.upenn.edu/json/saao-saa09.zip saving as jsonzip/saao-saa09.zip\n",
      "Waiting 3 seconds in order not to overload the ORACC server\n"
     ]
    },
    {
     "name": "stderr",
     "output_type": "stream",
     "text": [
      " 87%|████████▋ | 121/139 [09:18<01:20,  4.50s/it]c:\\Users\\valek\\AppData\\Local\\Programs\\Python\\Python313\\Lib\\site-packages\\urllib3\\connectionpool.py:1097: InsecureRequestWarning: Unverified HTTPS request is being made to host 'build-oracc.museum.upenn.edu'. Adding certificate verification is strongly advised. See: https://urllib3.readthedocs.io/en/latest/advanced-usage.html#tls-warnings\n",
      "  warnings.warn(\n"
     ]
    },
    {
     "name": "stdout",
     "output_type": "stream",
     "text": [
      "Downloading http://build-oracc.museum.upenn.edu/json/saao-saa10.zip saving as jsonzip/saao-saa10.zip\n",
      "Waiting 3 seconds in order not to overload the ORACC server\n"
     ]
    },
    {
     "name": "stderr",
     "output_type": "stream",
     "text": [
      " 88%|████████▊ | 122/139 [09:22<01:17,  4.53s/it]c:\\Users\\valek\\AppData\\Local\\Programs\\Python\\Python313\\Lib\\site-packages\\urllib3\\connectionpool.py:1097: InsecureRequestWarning: Unverified HTTPS request is being made to host 'build-oracc.museum.upenn.edu'. Adding certificate verification is strongly advised. See: https://urllib3.readthedocs.io/en/latest/advanced-usage.html#tls-warnings\n",
      "  warnings.warn(\n"
     ]
    },
    {
     "name": "stdout",
     "output_type": "stream",
     "text": [
      "Downloading http://build-oracc.museum.upenn.edu/json/saao-saa11.zip saving as jsonzip/saao-saa11.zip\n",
      "Waiting 3 seconds in order not to overload the ORACC server\n"
     ]
    },
    {
     "name": "stderr",
     "output_type": "stream",
     "text": [
      " 88%|████████▊ | 123/139 [09:27<01:11,  4.46s/it]c:\\Users\\valek\\AppData\\Local\\Programs\\Python\\Python313\\Lib\\site-packages\\urllib3\\connectionpool.py:1097: InsecureRequestWarning: Unverified HTTPS request is being made to host 'build-oracc.museum.upenn.edu'. Adding certificate verification is strongly advised. See: https://urllib3.readthedocs.io/en/latest/advanced-usage.html#tls-warnings\n",
      "  warnings.warn(\n"
     ]
    },
    {
     "name": "stdout",
     "output_type": "stream",
     "text": [
      "Downloading http://build-oracc.museum.upenn.edu/json/saao-saa12.zip saving as jsonzip/saao-saa12.zip\n",
      "Waiting 3 seconds in order not to overload the ORACC server\n"
     ]
    },
    {
     "name": "stderr",
     "output_type": "stream",
     "text": [
      " 89%|████████▉ | 124/139 [09:31<01:06,  4.42s/it]c:\\Users\\valek\\AppData\\Local\\Programs\\Python\\Python313\\Lib\\site-packages\\urllib3\\connectionpool.py:1097: InsecureRequestWarning: Unverified HTTPS request is being made to host 'build-oracc.museum.upenn.edu'. Adding certificate verification is strongly advised. See: https://urllib3.readthedocs.io/en/latest/advanced-usage.html#tls-warnings\n",
      "  warnings.warn(\n"
     ]
    },
    {
     "name": "stdout",
     "output_type": "stream",
     "text": [
      "Downloading http://build-oracc.museum.upenn.edu/json/saao-saa13.zip saving as jsonzip/saao-saa13.zip\n",
      "Waiting 3 seconds in order not to overload the ORACC server\n"
     ]
    },
    {
     "name": "stderr",
     "output_type": "stream",
     "text": [
      " 90%|████████▉ | 125/139 [09:35<01:01,  4.40s/it]c:\\Users\\valek\\AppData\\Local\\Programs\\Python\\Python313\\Lib\\site-packages\\urllib3\\connectionpool.py:1097: InsecureRequestWarning: Unverified HTTPS request is being made to host 'build-oracc.museum.upenn.edu'. Adding certificate verification is strongly advised. See: https://urllib3.readthedocs.io/en/latest/advanced-usage.html#tls-warnings\n",
      "  warnings.warn(\n"
     ]
    },
    {
     "name": "stdout",
     "output_type": "stream",
     "text": [
      "Downloading http://build-oracc.museum.upenn.edu/json/saao-saa14.zip saving as jsonzip/saao-saa14.zip\n",
      "Waiting 3 seconds in order not to overload the ORACC server\n"
     ]
    },
    {
     "name": "stderr",
     "output_type": "stream",
     "text": [
      " 91%|█████████ | 126/139 [09:40<00:57,  4.41s/it]c:\\Users\\valek\\AppData\\Local\\Programs\\Python\\Python313\\Lib\\site-packages\\urllib3\\connectionpool.py:1097: InsecureRequestWarning: Unverified HTTPS request is being made to host 'build-oracc.museum.upenn.edu'. Adding certificate verification is strongly advised. See: https://urllib3.readthedocs.io/en/latest/advanced-usage.html#tls-warnings\n",
      "  warnings.warn(\n"
     ]
    },
    {
     "name": "stdout",
     "output_type": "stream",
     "text": [
      "Downloading http://build-oracc.museum.upenn.edu/json/saao-saa15.zip saving as jsonzip/saao-saa15.zip\n",
      "Waiting 3 seconds in order not to overload the ORACC server\n"
     ]
    },
    {
     "name": "stderr",
     "output_type": "stream",
     "text": [
      " 91%|█████████▏| 127/139 [09:44<00:52,  4.41s/it]c:\\Users\\valek\\AppData\\Local\\Programs\\Python\\Python313\\Lib\\site-packages\\urllib3\\connectionpool.py:1097: InsecureRequestWarning: Unverified HTTPS request is being made to host 'build-oracc.museum.upenn.edu'. Adding certificate verification is strongly advised. See: https://urllib3.readthedocs.io/en/latest/advanced-usage.html#tls-warnings\n",
      "  warnings.warn(\n"
     ]
    },
    {
     "name": "stdout",
     "output_type": "stream",
     "text": [
      "Downloading http://build-oracc.museum.upenn.edu/json/saao-saa16.zip saving as jsonzip/saao-saa16.zip\n",
      "Waiting 3 seconds in order not to overload the ORACC server\n"
     ]
    },
    {
     "name": "stderr",
     "output_type": "stream",
     "text": [
      " 92%|█████████▏| 128/139 [09:49<00:48,  4.40s/it]c:\\Users\\valek\\AppData\\Local\\Programs\\Python\\Python313\\Lib\\site-packages\\urllib3\\connectionpool.py:1097: InsecureRequestWarning: Unverified HTTPS request is being made to host 'build-oracc.museum.upenn.edu'. Adding certificate verification is strongly advised. See: https://urllib3.readthedocs.io/en/latest/advanced-usage.html#tls-warnings\n",
      "  warnings.warn(\n"
     ]
    },
    {
     "name": "stdout",
     "output_type": "stream",
     "text": [
      "Downloading http://build-oracc.museum.upenn.edu/json/saao-saa17.zip saving as jsonzip/saao-saa17.zip\n",
      "Waiting 3 seconds in order not to overload the ORACC server\n"
     ]
    },
    {
     "name": "stderr",
     "output_type": "stream",
     "text": [
      " 93%|█████████▎| 129/139 [09:53<00:43,  4.39s/it]c:\\Users\\valek\\AppData\\Local\\Programs\\Python\\Python313\\Lib\\site-packages\\urllib3\\connectionpool.py:1097: InsecureRequestWarning: Unverified HTTPS request is being made to host 'build-oracc.museum.upenn.edu'. Adding certificate verification is strongly advised. See: https://urllib3.readthedocs.io/en/latest/advanced-usage.html#tls-warnings\n",
      "  warnings.warn(\n"
     ]
    },
    {
     "name": "stdout",
     "output_type": "stream",
     "text": [
      "Downloading http://build-oracc.museum.upenn.edu/json/saao-saa18.zip saving as jsonzip/saao-saa18.zip\n",
      "Waiting 3 seconds in order not to overload the ORACC server\n"
     ]
    },
    {
     "name": "stderr",
     "output_type": "stream",
     "text": [
      " 94%|█████████▎| 130/139 [09:57<00:39,  4.39s/it]c:\\Users\\valek\\AppData\\Local\\Programs\\Python\\Python313\\Lib\\site-packages\\urllib3\\connectionpool.py:1097: InsecureRequestWarning: Unverified HTTPS request is being made to host 'build-oracc.museum.upenn.edu'. Adding certificate verification is strongly advised. See: https://urllib3.readthedocs.io/en/latest/advanced-usage.html#tls-warnings\n",
      "  warnings.warn(\n"
     ]
    },
    {
     "name": "stdout",
     "output_type": "stream",
     "text": [
      "Downloading http://build-oracc.museum.upenn.edu/json/saao-saa19.zip saving as jsonzip/saao-saa19.zip\n",
      "Waiting 3 seconds in order not to overload the ORACC server\n"
     ]
    },
    {
     "name": "stderr",
     "output_type": "stream",
     "text": [
      " 94%|█████████▍| 131/139 [10:02<00:35,  4.41s/it]c:\\Users\\valek\\AppData\\Local\\Programs\\Python\\Python313\\Lib\\site-packages\\urllib3\\connectionpool.py:1097: InsecureRequestWarning: Unverified HTTPS request is being made to host 'build-oracc.museum.upenn.edu'. Adding certificate verification is strongly advised. See: https://urllib3.readthedocs.io/en/latest/advanced-usage.html#tls-warnings\n",
      "  warnings.warn(\n"
     ]
    },
    {
     "name": "stdout",
     "output_type": "stream",
     "text": [
      "Downloading http://build-oracc.museum.upenn.edu/json/saao-saa20.zip saving as jsonzip/saao-saa20.zip\n",
      "Waiting 3 seconds in order not to overload the ORACC server\n"
     ]
    },
    {
     "name": "stderr",
     "output_type": "stream",
     "text": [
      " 95%|█████████▍| 132/139 [10:06<00:30,  4.41s/it]c:\\Users\\valek\\AppData\\Local\\Programs\\Python\\Python313\\Lib\\site-packages\\urllib3\\connectionpool.py:1097: InsecureRequestWarning: Unverified HTTPS request is being made to host 'build-oracc.museum.upenn.edu'. Adding certificate verification is strongly advised. See: https://urllib3.readthedocs.io/en/latest/advanced-usage.html#tls-warnings\n",
      "  warnings.warn(\n"
     ]
    },
    {
     "name": "stdout",
     "output_type": "stream",
     "text": [
      "Downloading http://build-oracc.museum.upenn.edu/json/saao-saa21.zip saving as jsonzip/saao-saa21.zip\n",
      "Waiting 3 seconds in order not to overload the ORACC server\n"
     ]
    },
    {
     "name": "stderr",
     "output_type": "stream",
     "text": [
      " 96%|█████████▌| 133/139 [10:11<00:26,  4.40s/it]c:\\Users\\valek\\AppData\\Local\\Programs\\Python\\Python313\\Lib\\site-packages\\urllib3\\connectionpool.py:1097: InsecureRequestWarning: Unverified HTTPS request is being made to host 'build-oracc.museum.upenn.edu'. Adding certificate verification is strongly advised. See: https://urllib3.readthedocs.io/en/latest/advanced-usage.html#tls-warnings\n",
      "  warnings.warn(\n"
     ]
    },
    {
     "name": "stdout",
     "output_type": "stream",
     "text": [
      "Downloading http://build-oracc.museum.upenn.edu/json/saao-saas2.zip saving as jsonzip/saao-saas2.zip\n",
      "Waiting 3 seconds in order not to overload the ORACC server\n"
     ]
    },
    {
     "name": "stderr",
     "output_type": "stream",
     "text": [
      " 96%|█████████▋| 134/139 [10:15<00:21,  4.36s/it]c:\\Users\\valek\\AppData\\Local\\Programs\\Python\\Python313\\Lib\\site-packages\\urllib3\\connectionpool.py:1097: InsecureRequestWarning: Unverified HTTPS request is being made to host 'build-oracc.museum.upenn.edu'. Adding certificate verification is strongly advised. See: https://urllib3.readthedocs.io/en/latest/advanced-usage.html#tls-warnings\n",
      "  warnings.warn(\n"
     ]
    },
    {
     "name": "stdout",
     "output_type": "stream",
     "text": [
      "Downloading http://build-oracc.museum.upenn.edu/json/suhu.zip saving as jsonzip/suhu.zip\n",
      "Waiting 3 seconds in order not to overload the ORACC server\n"
     ]
    },
    {
     "name": "stderr",
     "output_type": "stream",
     "text": [
      " 97%|█████████▋| 135/139 [10:19<00:17,  4.31s/it]c:\\Users\\valek\\AppData\\Local\\Programs\\Python\\Python313\\Lib\\site-packages\\urllib3\\connectionpool.py:1097: InsecureRequestWarning: Unverified HTTPS request is being made to host 'build-oracc.museum.upenn.edu'. Adding certificate verification is strongly advised. See: https://urllib3.readthedocs.io/en/latest/advanced-usage.html#tls-warnings\n",
      "  warnings.warn(\n"
     ]
    },
    {
     "name": "stdout",
     "output_type": "stream",
     "text": [
      "Downloading http://build-oracc.museum.upenn.edu/json/tcma.zip saving as jsonzip/tcma.zip\n",
      "Waiting 3 seconds in order not to overload the ORACC server\n"
     ]
    },
    {
     "name": "stderr",
     "output_type": "stream",
     "text": [
      " 98%|█████████▊| 136/139 [10:24<00:13,  4.49s/it]c:\\Users\\valek\\AppData\\Local\\Programs\\Python\\Python313\\Lib\\site-packages\\urllib3\\connectionpool.py:1097: InsecureRequestWarning: Unverified HTTPS request is being made to host 'build-oracc.museum.upenn.edu'. Adding certificate verification is strongly advised. See: https://urllib3.readthedocs.io/en/latest/advanced-usage.html#tls-warnings\n",
      "  warnings.warn(\n"
     ]
    },
    {
     "name": "stdout",
     "output_type": "stream",
     "text": [
      "Downloading http://build-oracc.museum.upenn.edu/json/tsae.zip saving as jsonzip/tsae.zip\n",
      "Waiting 3 seconds in order not to overload the ORACC server\n"
     ]
    },
    {
     "name": "stderr",
     "output_type": "stream",
     "text": [
      " 99%|█████████▊| 137/139 [10:33<00:11,  5.76s/it]c:\\Users\\valek\\AppData\\Local\\Programs\\Python\\Python313\\Lib\\site-packages\\urllib3\\connectionpool.py:1097: InsecureRequestWarning: Unverified HTTPS request is being made to host 'build-oracc.museum.upenn.edu'. Adding certificate verification is strongly advised. See: https://urllib3.readthedocs.io/en/latest/advanced-usage.html#tls-warnings\n",
      "  warnings.warn(\n"
     ]
    },
    {
     "name": "stdout",
     "output_type": "stream",
     "text": [
      "Downloading http://build-oracc.museum.upenn.edu/json/urap.zip saving as jsonzip/urap.zip\n",
      "Waiting 3 seconds in order not to overload the ORACC server\n"
     ]
    },
    {
     "name": "stderr",
     "output_type": "stream",
     "text": [
      " 99%|█████████▉| 138/139 [10:37<00:05,  5.30s/it]c:\\Users\\valek\\AppData\\Local\\Programs\\Python\\Python313\\Lib\\site-packages\\urllib3\\connectionpool.py:1097: InsecureRequestWarning: Unverified HTTPS request is being made to host 'build-oracc.museum.upenn.edu'. Adding certificate verification is strongly advised. See: https://urllib3.readthedocs.io/en/latest/advanced-usage.html#tls-warnings\n",
      "  warnings.warn(\n"
     ]
    },
    {
     "name": "stdout",
     "output_type": "stream",
     "text": [
      "Downloading http://build-oracc.museum.upenn.edu/json/xcat.zip saving as jsonzip/xcat.zip\n",
      "Waiting 3 seconds in order not to overload the ORACC server\n"
     ]
    },
    {
     "name": "stderr",
     "output_type": "stream",
     "text": [
      "100%|██████████| 139/139 [10:41<00:00,  4.61s/it]\n"
     ]
    }
   ],
   "source": [
    "CHUNK = 16 * 1024\n",
    "for project in tqdm.tqdm(projects):\n",
    "    url = \"http://build-oracc.museum.upenn.edu/json/\" + project + \".zip\"\n",
    "    file = 'jsonzip/' + project + '.zip'\n",
    "    r = requests.get(url, verify=False)\n",
    "    if r.status_code == 200:\n",
    "        print(\"Downloading \" + url + \" saving as \" + file)\n",
    "        with open(file, 'wb') as f:\n",
    "            for c in r.iter_content(chunk_size=CHUNK):\n",
    "                f.write(c)\n",
    "        print('Waiting 3 seconds in order not to overload the ORACC server')\n",
    "        time.sleep(3)\n",
    "    else:\n",
    "        print(url + \" does not exist.\")"
   ]
  },
  {
   "cell_type": "markdown",
   "metadata": {},
   "source": [
    "# Extracting ZIP files\n",
    "\n",
    "TODO: add function description"
   ]
  },
  {
   "cell_type": "code",
   "execution_count": 8,
   "metadata": {
    "collapsed": true
   },
   "outputs": [],
   "source": [
    "def extract_and_delete_zip():\n",
    "    zipped_projects = os.listdir(ZIP_PATH)\n",
    "    for z_file in zipped_projects:\n",
    "        if z_file[-4:] == '.zip':\n",
    "            with zipfile.ZipFile(os.path.join(ZIP_PATH, z_file), 'r') as zip_ref:\n",
    "                zip_ref.extractall(EXTRACT_PATH)\n",
    "    \n",
    "            os.remove(os.path.join(ZIP_PATH, z_file))\n",
    "    \n",
    "            print(f\"File {z_file} has been extracted to folder projectsdata and deleted.\")"
   ]
  },
  {
   "cell_type": "code",
   "execution_count": 9,
   "metadata": {},
   "outputs": [
    {
     "name": "stdout",
     "output_type": "stream",
     "text": [
      "File adsd-adart1.zip has been extracted to folder projectsdata and deleted.\n",
      "File adsd-adart2.zip has been extracted to folder projectsdata and deleted.\n",
      "File adsd-adart3.zip has been extracted to folder projectsdata and deleted.\n",
      "File adsd-adart5.zip has been extracted to folder projectsdata and deleted.\n",
      "File adsd-adart6.zip has been extracted to folder projectsdata and deleted.\n",
      "File adsd.zip has been extracted to folder projectsdata and deleted.\n",
      "File aemw-alalakh-idrimi.zip has been extracted to folder projectsdata and deleted.\n",
      "File aemw-amarna.zip has been extracted to folder projectsdata and deleted.\n",
      "File akklove.zip has been extracted to folder projectsdata and deleted.\n",
      "File amgg.zip has been extracted to folder projectsdata and deleted.\n",
      "File ario.zip has been extracted to folder projectsdata and deleted.\n",
      "File armep.zip has been extracted to folder projectsdata and deleted.\n",
      "File arrim.zip has been extracted to folder projectsdata and deleted.\n",
      "File asbp-ninmed.zip has been extracted to folder projectsdata and deleted.\n",
      "File asbp-rlasb.zip has been extracted to folder projectsdata and deleted.\n",
      "File asbp.zip has been extracted to folder projectsdata and deleted.\n",
      "File atae-assur.zip has been extracted to folder projectsdata and deleted.\n",
      "File atae-burmarina.zip has been extracted to folder projectsdata and deleted.\n",
      "File atae-durkatlimmu.zip has been extracted to folder projectsdata and deleted.\n",
      "File atae-durszarrukin.zip has been extracted to folder projectsdata and deleted.\n",
      "File atae-guzana.zip has been extracted to folder projectsdata and deleted.\n",
      "File atae-huzirina.zip has been extracted to folder projectsdata and deleted.\n",
      "File atae-imgurenlil.zip has been extracted to folder projectsdata and deleted.\n",
      "File atae-kalhu.zip has been extracted to folder projectsdata and deleted.\n",
      "File atae-kunalia.zip has been extracted to folder projectsdata and deleted.\n",
      "File atae-mallanate.zip has been extracted to folder projectsdata and deleted.\n",
      "File atae-marqasu.zip has been extracted to folder projectsdata and deleted.\n",
      "File atae-nineveh.zip has been extracted to folder projectsdata and deleted.\n",
      "File atae-samal.zip has been extracted to folder projectsdata and deleted.\n",
      "File atae-szibaniba.zip has been extracted to folder projectsdata and deleted.\n",
      "File atae-tilbarsip.zip has been extracted to folder projectsdata and deleted.\n",
      "File atae-tuszhan.zip has been extracted to folder projectsdata and deleted.\n",
      "File atae.zip has been extracted to folder projectsdata and deleted.\n",
      "File babcity.zip has been extracted to folder projectsdata and deleted.\n",
      "File balt.zip has been extracted to folder projectsdata and deleted.\n",
      "File blms.zip has been extracted to folder projectsdata and deleted.\n",
      "File borsippa.zip has been extracted to folder projectsdata and deleted.\n",
      "File btmao.zip has been extracted to folder projectsdata and deleted.\n",
      "File btto.zip has been extracted to folder projectsdata and deleted.\n",
      "File cams-barutu.zip has been extracted to folder projectsdata and deleted.\n",
      "File cams-gkab.zip has been extracted to folder projectsdata and deleted.\n",
      "File cams-ludlul.zip has been extracted to folder projectsdata and deleted.\n",
      "File cams-selbi.zip has been extracted to folder projectsdata and deleted.\n",
      "File cams-tlab.zip has been extracted to folder projectsdata and deleted.\n",
      "File ckst.zip has been extracted to folder projectsdata and deleted.\n",
      "File cmawro-cmawr1.zip has been extracted to folder projectsdata and deleted.\n",
      "File cmawro-cmawr2.zip has been extracted to folder projectsdata and deleted.\n",
      "File cmawro-cmawr3.zip has been extracted to folder projectsdata and deleted.\n",
      "File cmawro-maqlu.zip has been extracted to folder projectsdata and deleted.\n",
      "File cmawro.zip has been extracted to folder projectsdata and deleted.\n",
      "File contrib-amarna.zip has been extracted to folder projectsdata and deleted.\n",
      "File contrib-jacobsen.zip has been extracted to folder projectsdata and deleted.\n",
      "File contrib-lambert.zip has been extracted to folder projectsdata and deleted.\n",
      "File dcclt-ebla.zip has been extracted to folder projectsdata and deleted.\n",
      "File dcclt-jena.zip has been extracted to folder projectsdata and deleted.\n",
      "File dcclt-nineveh.zip has been extracted to folder projectsdata and deleted.\n",
      "File dcclt-signlists.zip has been extracted to folder projectsdata and deleted.\n",
      "File dcclt.zip has been extracted to folder projectsdata and deleted.\n",
      "File dccmt.zip has been extracted to folder projectsdata and deleted.\n",
      "File dsst.zip has been extracted to folder projectsdata and deleted.\n",
      "File ecut.zip has been extracted to folder projectsdata and deleted.\n",
      "File edlex.zip has been extracted to folder projectsdata and deleted.\n",
      "File eisl.zip has been extracted to folder projectsdata and deleted.\n",
      "File etcsri.zip has been extracted to folder projectsdata and deleted.\n",
      "File glass.zip has been extracted to folder projectsdata and deleted.\n",
      "File hbtin.zip has been extracted to folder projectsdata and deleted.\n",
      "File iraq-iraq85.zip has been extracted to folder projectsdata and deleted.\n",
      "File iraq.zip has been extracted to folder projectsdata and deleted.\n",
      "File kish-fieldmus-fmod.zip has been extracted to folder projectsdata and deleted.\n",
      "File kish-fieldmus.zip has been extracted to folder projectsdata and deleted.\n",
      "File kish-mathaffield.zip has been extracted to folder projectsdata and deleted.\n",
      "File kish.zip has been extracted to folder projectsdata and deleted.\n",
      "File nere.zip has been extracted to folder projectsdata and deleted.\n",
      "File nimrud.zip has been extracted to folder projectsdata and deleted.\n",
      "File obel.zip has been extracted to folder projectsdata and deleted.\n",
      "File obmc.zip has been extracted to folder projectsdata and deleted.\n",
      "File obta.zip has been extracted to folder projectsdata and deleted.\n",
      "File ogsl.zip has been extracted to folder projectsdata and deleted.\n",
      "File oimea.zip has been extracted to folder projectsdata and deleted.\n",
      "File osl.zip has been extracted to folder projectsdata and deleted.\n",
      "File pnao.zip has been extracted to folder projectsdata and deleted.\n",
      "File qcat.zip has been extracted to folder projectsdata and deleted.\n",
      "File riao.zip has been extracted to folder projectsdata and deleted.\n",
      "File ribo-bab7scores.zip has been extracted to folder projectsdata and deleted.\n",
      "File ribo-babylon10.zip has been extracted to folder projectsdata and deleted.\n",
      "File ribo-babylon2.zip has been extracted to folder projectsdata and deleted.\n",
      "File ribo-babylon3.zip has been extracted to folder projectsdata and deleted.\n",
      "File ribo-babylon4.zip has been extracted to folder projectsdata and deleted.\n",
      "File ribo-babylon5.zip has been extracted to folder projectsdata and deleted.\n",
      "File ribo-babylon6.zip has been extracted to folder projectsdata and deleted.\n",
      "File ribo-babylon7.zip has been extracted to folder projectsdata and deleted.\n",
      "File ribo-babylon8.zip has been extracted to folder projectsdata and deleted.\n",
      "File ribo-sources.zip has been extracted to folder projectsdata and deleted.\n",
      "File ribo.zip has been extracted to folder projectsdata and deleted.\n",
      "File rimanum.zip has been extracted to folder projectsdata and deleted.\n",
      "File rinap-rinap1.zip has been extracted to folder projectsdata and deleted.\n",
      "File rinap-rinap2.zip has been extracted to folder projectsdata and deleted.\n",
      "File rinap-rinap3.zip has been extracted to folder projectsdata and deleted.\n",
      "File rinap-rinap4.zip has been extracted to folder projectsdata and deleted.\n",
      "File rinap-rinap5.zip has been extracted to folder projectsdata and deleted.\n",
      "File rinap-scores.zip has been extracted to folder projectsdata and deleted.\n",
      "File rinap-sources.zip has been extracted to folder projectsdata and deleted.\n",
      "File rinap.zip has been extracted to folder projectsdata and deleted.\n",
      "File saao-aebp.zip has been extracted to folder projectsdata and deleted.\n",
      "File saao-knpp.zip has been extracted to folder projectsdata and deleted.\n",
      "File saao-saa01.zip has been extracted to folder projectsdata and deleted.\n",
      "File saao-saa02.zip has been extracted to folder projectsdata and deleted.\n",
      "File saao-saa03.zip has been extracted to folder projectsdata and deleted.\n",
      "File saao-saa04.zip has been extracted to folder projectsdata and deleted.\n",
      "File saao-saa05.zip has been extracted to folder projectsdata and deleted.\n",
      "File saao-saa06.zip has been extracted to folder projectsdata and deleted.\n",
      "File saao-saa07.zip has been extracted to folder projectsdata and deleted.\n",
      "File saao-saa08.zip has been extracted to folder projectsdata and deleted.\n",
      "File saao-saa09.zip has been extracted to folder projectsdata and deleted.\n",
      "File saao-saa10.zip has been extracted to folder projectsdata and deleted.\n",
      "File saao-saa11.zip has been extracted to folder projectsdata and deleted.\n",
      "File saao-saa12.zip has been extracted to folder projectsdata and deleted.\n",
      "File saao-saa13.zip has been extracted to folder projectsdata and deleted.\n",
      "File saao-saa14.zip has been extracted to folder projectsdata and deleted.\n",
      "File saao-saa15.zip has been extracted to folder projectsdata and deleted.\n",
      "File saao-saa16.zip has been extracted to folder projectsdata and deleted.\n",
      "File saao-saa17.zip has been extracted to folder projectsdata and deleted.\n",
      "File saao-saa18.zip has been extracted to folder projectsdata and deleted.\n",
      "File saao-saa19.zip has been extracted to folder projectsdata and deleted.\n",
      "File saao-saa20.zip has been extracted to folder projectsdata and deleted.\n",
      "File saao-saa21.zip has been extracted to folder projectsdata and deleted.\n",
      "File saao-saas2.zip has been extracted to folder projectsdata and deleted.\n",
      "File saao.zip has been extracted to folder projectsdata and deleted.\n",
      "File suhu.zip has been extracted to folder projectsdata and deleted.\n",
      "File tcma.zip has been extracted to folder projectsdata and deleted.\n",
      "File tsae.zip has been extracted to folder projectsdata and deleted.\n",
      "File urap.zip has been extracted to folder projectsdata and deleted.\n",
      "File xcat.zip has been extracted to folder projectsdata and deleted.\n"
     ]
    }
   ],
   "source": [
    "extract_and_delete_zip()"
   ]
  }
 ],
 "metadata": {
  "kernelspec": {
   "display_name": "Python 3",
   "language": "python",
   "name": "python3"
  },
  "language_info": {
   "codemirror_mode": {
    "name": "ipython",
    "version": 3
   },
   "file_extension": ".py",
   "mimetype": "text/x-python",
   "name": "python",
   "nbconvert_exporter": "python",
   "pygments_lexer": "ipython3",
   "version": "3.13.1"
  }
 },
 "nbformat": 4,
 "nbformat_minor": 2
}
